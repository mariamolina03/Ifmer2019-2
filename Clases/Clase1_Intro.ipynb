{
  "nbformat": 4,
  "nbformat_minor": 0,
  "metadata": {
    "colab": {
      "name": "Clase1_Intro.ipynb",
      "version": "0.3.2",
      "provenance": [],
      "collapsed_sections": [],
      "toc_visible": true,
      "include_colab_link": true
    },
    "kernelspec": {
      "name": "python3",
      "display_name": "Python 3"
    }
  },
  "cells": [
    {
      "cell_type": "markdown",
      "metadata": {
        "id": "view-in-github",
        "colab_type": "text"
      },
      "source": [
        "<a href=\"https://colab.research.google.com/github/dquirogat/Ifmer2019-2/blob/master/Clase1_Intro.ipynb\" target=\"_parent\"><img src=\"https://colab.research.google.com/assets/colab-badge.svg\" alt=\"Open In Colab\"/></a>"
      ]
    },
    {
      "cell_type": "markdown",
      "metadata": {
        "id": "FZBr4_ny6UCr",
        "colab_type": "text"
      },
      "source": [
        "# Introducción a Colab"
      ]
    },
    {
      "cell_type": "markdown",
      "metadata": {
        "id": "45mGoUjaZRWP",
        "colab_type": "text"
      },
      "source": [
        "Colaboratory es un entorno gratuito para correr archivo de python en un notebook de Jupyter, con la principal ventaja que ya tiene por defecto cargada diferentes configuraciones"
      ]
    },
    {
      "cell_type": "markdown",
      "metadata": {
        "id": "E3O7xf5WiJHc",
        "colab_type": "text"
      },
      "source": [
        "Presenta algunas __otras__ **utilidades** _otras_ más *sencillas*\n",
        " \n",
        "# Nota 1\n",
        "## Nota 2\n",
        "### Nota 3\n",
        "#### Nota 4"
      ]
    },
    {
      "cell_type": "markdown",
      "metadata": {
        "id": "YtUpWBRyiaPG",
        "colab_type": "text"
      },
      "source": [
        "# 1. Celdas de Código\n",
        "\n",
        "Correr con:\n",
        "* Play\n",
        "* Shift+Enter\n",
        "* Control + Enter\n",
        "* Alt + Enter"
      ]
    },
    {
      "cell_type": "code",
      "metadata": {
        "id": "KkBqvJp-ZYMG",
        "colab_type": "code",
        "outputId": "fb763c95-5ec1-4e64-f39d-0de0214d9451",
        "colab": {
          "base_uri": "https://localhost:8080/",
          "height": 34
        }
      },
      "source": [
        "a=\"Hola\"\n",
        "print(a)"
      ],
      "execution_count": 0,
      "outputs": [
        {
          "output_type": "stream",
          "text": [
            "Hola\n"
          ],
          "name": "stdout"
        }
      ]
    },
    {
      "cell_type": "code",
      "metadata": {
        "id": "gspcZYDnJFK4",
        "colab_type": "code",
        "outputId": "7d30d375-a33d-49c9-af09-b44b9b5e414d",
        "colab": {
          "base_uri": "https://localhost:8080/",
          "height": 34
        }
      },
      "source": [
        "b=4\n",
        "print(b)"
      ],
      "execution_count": 0,
      "outputs": [
        {
          "output_type": "stream",
          "text": [
            "4\n"
          ],
          "name": "stdout"
        }
      ]
    },
    {
      "cell_type": "code",
      "metadata": {
        "id": "tBK3pcERJFSs",
        "colab_type": "code",
        "outputId": "b0c8fd81-7910-47ca-f5dd-281598710c73",
        "colab": {
          "base_uri": "https://localhost:8080/",
          "height": 34
        }
      },
      "source": [
        "c={1,2,3}\n",
        "print(c)"
      ],
      "execution_count": 0,
      "outputs": [
        {
          "output_type": "stream",
          "text": [
            "{1, 2, 3}\n"
          ],
          "name": "stdout"
        }
      ]
    },
    {
      "cell_type": "code",
      "metadata": {
        "id": "W-ej29nTJFgS",
        "colab_type": "code",
        "outputId": "8a423de8-d488-447a-c0ef-b7b9cbf9a919",
        "colab": {
          "base_uri": "https://localhost:8080/",
          "height": 34
        }
      },
      "source": [
        "d=[1, 2, 3]\n",
        "print(d)"
      ],
      "execution_count": 0,
      "outputs": [
        {
          "output_type": "stream",
          "text": [
            "[1, 2, 3]\n"
          ],
          "name": "stdout"
        }
      ]
    },
    {
      "cell_type": "code",
      "metadata": {
        "id": "dF5F-dtHDciU",
        "colab_type": "code",
        "outputId": "4440c335-248a-4443-835f-6c60f7aa0494",
        "colab": {
          "base_uri": "https://localhost:8080/",
          "height": 34
        }
      },
      "source": [
        "print('Saludo: {} y se contar: {}'.format(a,c))"
      ],
      "execution_count": 0,
      "outputs": [
        {
          "output_type": "stream",
          "text": [
            "Saludo: Hola y se contar: {1, 2, 3}\n"
          ],
          "name": "stdout"
        }
      ]
    },
    {
      "cell_type": "code",
      "metadata": {
        "id": "vH8zXxttDciW",
        "colab_type": "code",
        "outputId": "2b63dc1d-886f-4717-d227-c0222e4f440d",
        "colab": {
          "base_uri": "https://localhost:8080/",
          "height": 34
        }
      },
      "source": [
        "print('Saludo: {uno} y se contar: {dos}'.format(uno=a,dos=c))"
      ],
      "execution_count": 0,
      "outputs": [
        {
          "output_type": "stream",
          "text": [
            "Saludo: Hola y se contar: {1, 2, 3}\n"
          ],
          "name": "stdout"
        }
      ]
    },
    {
      "cell_type": "code",
      "metadata": {
        "id": "gGALnD9_DciX",
        "colab_type": "code",
        "outputId": "0960975d-2fc4-4c6b-c098-deb66d503035",
        "colab": {
          "base_uri": "https://localhost:8080/",
          "height": 34
        }
      },
      "source": [
        "print('Saludo: {uno} y se contar: {dos}, otra vez: {dos}'.format(uno=a, dos=c))"
      ],
      "execution_count": 0,
      "outputs": [
        {
          "output_type": "stream",
          "text": [
            "Saludo: Hola y se contar: {1, 2, 3}, otra vez: {1, 2, 3}\n"
          ],
          "name": "stdout"
        }
      ]
    },
    {
      "cell_type": "code",
      "metadata": {
        "id": "uMjpLk5jDcia",
        "colab_type": "code",
        "outputId": "b6762ea3-b7d6-4d71-e8a7-03d461a60d0a",
        "colab": {
          "base_uri": "https://localhost:8080/",
          "height": 34
        }
      },
      "source": [
        "print(\"Saludo: %s y se contar: %s\" % (a,c)) "
      ],
      "execution_count": 0,
      "outputs": [
        {
          "output_type": "stream",
          "text": [
            "Saludo: Hola y se contar: {1, 2, 3}\n"
          ],
          "name": "stdout"
        }
      ]
    },
    {
      "cell_type": "code",
      "metadata": {
        "id": "ur9rZj0e-Ap7",
        "colab_type": "code",
        "outputId": "44ea38fd-f8f0-4088-8262-99ad7de95b19",
        "colab": {
          "base_uri": "https://localhost:8080/",
          "height": 34
        }
      },
      "source": [
        "# f-string Python 3\n",
        "print(f\"Mi número es: {a} y mi nombre es: {c}\") "
      ],
      "execution_count": 0,
      "outputs": [
        {
          "output_type": "stream",
          "text": [
            "Mi número es: Hola y mi nombre es: {1, 2, 3}\n"
          ],
          "name": "stdout"
        }
      ]
    },
    {
      "cell_type": "markdown",
      "metadata": {
        "id": "xTwj-uWlhHN9",
        "colab_type": "text"
      },
      "source": [
        "# 2. Celdas de Texto\n",
        "\n",
        "* Editar con **doble-click**. \n",
        "\n",
        "  * Más información al respecto [markdownguide](/notebooks/markdown_guide.ipynb).\n",
        "\n",
        "* Las fórmulas se escriben\n",
        "$\\sqrt{2x*\\alpha}+(x)^2.$\n"
      ]
    },
    {
      "cell_type": "markdown",
      "metadata": {
        "id": "trjlka8hiqty",
        "colab_type": "text"
      },
      "source": [
        " # 3. Algunos trucos"
      ]
    },
    {
      "cell_type": "markdown",
      "metadata": {
        "colab_type": "text",
        "id": "d4L9TOP9QSHn"
      },
      "source": [
        "* La tecla **TAB**."
      ]
    },
    {
      "cell_type": "code",
      "metadata": {
        "id": "-Q1qVu-HK_jZ",
        "colab_type": "code",
        "colab": {}
      },
      "source": [
        "import numpy as np"
      ],
      "execution_count": 0,
      "outputs": []
    },
    {
      "cell_type": "code",
      "metadata": {
        "id": "MiYURRPdelhM",
        "colab_type": "code",
        "colab": {}
      },
      "source": [
        "np?"
      ],
      "execution_count": 0,
      "outputs": []
    },
    {
      "cell_type": "code",
      "metadata": {
        "id": "Ul38U2HheuLd",
        "colab_type": "code",
        "outputId": "6f5b34f7-b9f3-496c-ea0f-0034064d4ee1",
        "colab": {
          "base_uri": "https://localhost:8080/",
          "height": 163
        }
      },
      "source": [
        "a = dd"
      ],
      "execution_count": 0,
      "outputs": [
        {
          "output_type": "error",
          "ename": "NameError",
          "evalue": "ignored",
          "traceback": [
            "\u001b[0;31m---------------------------------------------------------------------------\u001b[0m",
            "\u001b[0;31mNameError\u001b[0m                                 Traceback (most recent call last)",
            "\u001b[0;32m<ipython-input-12-57685d9f8fde>\u001b[0m in \u001b[0;36m<module>\u001b[0;34m()\u001b[0m\n\u001b[0;32m----> 1\u001b[0;31m \u001b[0ma\u001b[0m \u001b[0;34m=\u001b[0m \u001b[0mdd\u001b[0m\u001b[0;34m\u001b[0m\u001b[0;34m\u001b[0m\u001b[0m\n\u001b[0m",
            "\u001b[0;31mNameError\u001b[0m: name 'dd' is not defined"
          ]
        }
      ]
    },
    {
      "cell_type": "code",
      "metadata": {
        "id": "E9nvMXHq4HNL",
        "colab_type": "code",
        "outputId": "f1c7e0be-b9b1-4c1e-c65c-773421817836",
        "colab": {
          "base_uri": "https://localhost:8080/",
          "height": 129
        }
      },
      "source": [
        "if:\n",
        "  elif:\n",
        "    else:"
      ],
      "execution_count": 0,
      "outputs": [
        {
          "output_type": "error",
          "ename": "SyntaxError",
          "evalue": "ignored",
          "traceback": [
            "\u001b[0;36m  File \u001b[0;32m\"<ipython-input-13-ee6080da49be>\"\u001b[0;36m, line \u001b[0;32m1\u001b[0m\n\u001b[0;31m    if:\u001b[0m\n\u001b[0m      ^\u001b[0m\n\u001b[0;31mSyntaxError\u001b[0m\u001b[0;31m:\u001b[0m invalid syntax\n"
          ]
        }
      ]
    },
    {
      "cell_type": "code",
      "metadata": {
        "cellView": "both",
        "colab_type": "code",
        "id": "Q0JKWcmtQSHp",
        "outputId": "e4530299-db46-4b3b-e33d-61aa6e6f1e4a",
        "colab": {
          "base_uri": "https://localhost:8080/",
          "height": 119
        }
      },
      "source": [
        "x = range(6)\n",
        "for n in x:\n",
        "  print(n) "
      ],
      "execution_count": 0,
      "outputs": [
        {
          "output_type": "stream",
          "text": [
            "0\n",
            "1\n",
            "2\n",
            "3\n",
            "4\n",
            "5\n"
          ],
          "name": "stdout"
        }
      ]
    },
    {
      "cell_type": "code",
      "metadata": {
        "id": "IFWl8Gt1LgNH",
        "colab_type": "code",
        "outputId": "185da150-8d59-42f0-863b-336676716048",
        "colab": {
          "base_uri": "https://localhost:8080/",
          "height": 85
        }
      },
      "source": [
        "#np.random.rand?\n",
        "np.random.randn(20)"
      ],
      "execution_count": 0,
      "outputs": [
        {
          "output_type": "execute_result",
          "data": {
            "text/plain": [
              "array([ 0.1800748 ,  1.71270367,  1.21394085,  0.19909608, -2.08322715,\n",
              "        0.96004807,  0.16993603, -1.55362133,  2.16576761,  1.17041593,\n",
              "        0.19159112,  0.37188331,  1.07135616,  0.99905643,  0.39968072,\n",
              "        1.45724869,  1.40341077, -1.35292789, -0.63450944, -2.53070767])"
            ]
          },
          "metadata": {
            "tags": []
          },
          "execution_count": 15
        }
      ]
    },
    {
      "cell_type": "markdown",
      "metadata": {
        "id": "ZAP9OG_Talnw",
        "colab_type": "text"
      },
      "source": [
        "**Instalación de paquetes**"
      ]
    },
    {
      "cell_type": "code",
      "metadata": {
        "id": "5mlqQmFDa0KX",
        "colab_type": "code",
        "outputId": "9343232c-b08b-4ed4-b4e1-f249c83c39e9",
        "colab": {
          "base_uri": "https://localhost:8080/",
          "height": 527
        }
      },
      "source": [
        "!pip install geopandas"
      ],
      "execution_count": 0,
      "outputs": [
        {
          "output_type": "stream",
          "text": [
            "Collecting geopandas\n",
            "\u001b[?25l  Downloading https://files.pythonhosted.org/packages/21/80/da2a33c9201cd4ce693f4aa6189efc9ef1a48bec1c3b02c3ce9908b07fec/geopandas-0.5.1-py2.py3-none-any.whl (893kB)\n",
            "\u001b[K     |████████████████████████████████| 901kB 2.9MB/s \n",
            "\u001b[?25hRequirement already satisfied: shapely in /usr/local/lib/python3.6/dist-packages (from geopandas) (1.6.4.post2)\n",
            "Collecting pyproj (from geopandas)\n",
            "\u001b[?25l  Downloading https://files.pythonhosted.org/packages/16/59/43869adef45ce4f1cf7d5c3aef1ea5d65d449050abdda5de7a2465c5729d/pyproj-2.2.1-cp36-cp36m-manylinux1_x86_64.whl (11.2MB)\n",
            "\u001b[K     |████████████████████████████████| 11.2MB 42.8MB/s \n",
            "\u001b[?25hCollecting fiona (from geopandas)\n",
            "\u001b[?25l  Downloading https://files.pythonhosted.org/packages/89/4a/193cd6a75e51062c85f4e1cd6f312b3bbda6e26ba7510f152ef5016f0b16/Fiona-1.8.6-cp36-cp36m-manylinux1_x86_64.whl (17.9MB)\n",
            "\u001b[K     |████████████████████████████████| 17.9MB 37.8MB/s \n",
            "\u001b[?25hRequirement already satisfied: pandas in /usr/local/lib/python3.6/dist-packages (from geopandas) (0.24.2)\n",
            "Requirement already satisfied: six>=1.7 in /usr/local/lib/python3.6/dist-packages (from fiona->geopandas) (1.12.0)\n",
            "Collecting munch (from fiona->geopandas)\n",
            "  Downloading https://files.pythonhosted.org/packages/68/f4/260ec98ea840757a0da09e0ed8135333d59b8dfebe9752a365b04857660a/munch-2.3.2.tar.gz\n",
            "Requirement already satisfied: attrs>=17 in /usr/local/lib/python3.6/dist-packages (from fiona->geopandas) (19.1.0)\n",
            "Collecting click-plugins>=1.0 (from fiona->geopandas)\n",
            "  Downloading https://files.pythonhosted.org/packages/e9/da/824b92d9942f4e472702488857914bdd50f73021efea15b4cad9aca8ecef/click_plugins-1.1.1-py2.py3-none-any.whl\n",
            "Collecting cligj>=0.5 (from fiona->geopandas)\n",
            "  Downloading https://files.pythonhosted.org/packages/e4/be/30a58b4b0733850280d01f8bd132591b4668ed5c7046761098d665ac2174/cligj-0.5.0-py3-none-any.whl\n",
            "Requirement already satisfied: click<8,>=4.0 in /usr/local/lib/python3.6/dist-packages (from fiona->geopandas) (7.0)\n",
            "Requirement already satisfied: numpy>=1.12.0 in /usr/local/lib/python3.6/dist-packages (from pandas->geopandas) (1.16.4)\n",
            "Requirement already satisfied: pytz>=2011k in /usr/local/lib/python3.6/dist-packages (from pandas->geopandas) (2018.9)\n",
            "Requirement already satisfied: python-dateutil>=2.5.0 in /usr/local/lib/python3.6/dist-packages (from pandas->geopandas) (2.5.3)\n",
            "Building wheels for collected packages: munch\n",
            "  Building wheel for munch (setup.py) ... \u001b[?25l\u001b[?25hdone\n",
            "  Created wheel for munch: filename=munch-2.3.2-py2.py3-none-any.whl size=6613 sha256=efd02865c7cda4e3720052f00e8a26319074dfb6c33454b6d60a958e73e95f82\n",
            "  Stored in directory: /root/.cache/pip/wheels/db/bf/bc/06a3e1bfe0ab27d2e720ceb3cff3159398d92644c0cec2c125\n",
            "Successfully built munch\n",
            "Installing collected packages: pyproj, munch, click-plugins, cligj, fiona, geopandas\n",
            "Successfully installed click-plugins-1.1.1 cligj-0.5.0 fiona-1.8.6 geopandas-0.5.1 munch-2.3.2 pyproj-2.2.1\n"
          ],
          "name": "stdout"
        }
      ]
    },
    {
      "cell_type": "code",
      "metadata": {
        "id": "yinzdHS5k9-Q",
        "colab_type": "code",
        "outputId": "5970cb37-bce7-4e8d-cff1-426e28feec4f",
        "colab": {
          "base_uri": "https://localhost:8080/",
          "height": 34
        }
      },
      "source": [
        "!ls"
      ],
      "execution_count": 0,
      "outputs": [
        {
          "output_type": "stream",
          "text": [
            "sample_data\n"
          ],
          "name": "stdout"
        }
      ]
    },
    {
      "cell_type": "markdown",
      "metadata": {
        "id": "1p-jIdPca3g_",
        "colab_type": "text"
      },
      "source": [
        "#4.  Cargar desde diferentes fuentes\n",
        "\n",
        "\n",
        "**1. Localmente**\n",
        "\n",
        "Subir archivos localmente"
      ]
    },
    {
      "cell_type": "code",
      "metadata": {
        "id": "dJSxD8E1cDLo",
        "colab_type": "code",
        "outputId": "ec169a9a-f6e0-45d8-dbcd-57e436b98f62",
        "colab": {
          "resources": {
            "http://localhost:8080/nbextensions/google.colab/files.js": {
              "data": "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",
              "ok": true,
              "headers": [
                [
                  "content-type",
                  "application/javascript"
                ]
              ],
              "status": 200,
              "status_text": ""
            }
          },
          "base_uri": "https://localhost:8080/",
          "height": 91
        }
      },
      "source": [
        "from google.colab import files\n",
        "\n",
        "uploaded = files.upload()\n",
        "\n",
        "for fn in uploaded.keys():\n",
        "  print('User uploaded file \"{name}\" with length {length} bytes'.format(\n",
        "      name=fn, length=len(uploaded[fn])))"
      ],
      "execution_count": 0,
      "outputs": [
        {
          "output_type": "display_data",
          "data": {
            "text/html": [
              "\n",
              "     <input type=\"file\" id=\"files-6b719867-cc22-4a1f-848f-f769c88f6da2\" name=\"files[]\" multiple disabled />\n",
              "     <output id=\"result-6b719867-cc22-4a1f-848f-f769c88f6da2\">\n",
              "      Upload widget is only available when the cell has been executed in the\n",
              "      current browser session. Please rerun this cell to enable.\n",
              "      </output>\n",
              "      <script src=\"/nbextensions/google.colab/files.js\"></script> "
            ],
            "text/plain": [
              "<IPython.core.display.HTML object>"
            ]
          },
          "metadata": {
            "tags": []
          }
        },
        {
          "output_type": "stream",
          "text": [
            "Saving AnscombeAndDatasaurusDataset.gsheet to AnscombeAndDatasaurusDataset.gsheet\n",
            "User uploaded file \"AnscombeAndDatasaurusDataset.gsheet\" with length 179 bytes\n"
          ],
          "name": "stdout"
        }
      ]
    },
    {
      "cell_type": "code",
      "metadata": {
        "id": "31Efm40zmK5x",
        "colab_type": "code",
        "outputId": "fb6c6340-7649-499b-9c9d-0235e72a0352",
        "colab": {
          "base_uri": "https://localhost:8080/",
          "height": 34
        }
      },
      "source": [
        "!ls"
      ],
      "execution_count": 0,
      "outputs": [
        {
          "output_type": "stream",
          "text": [
            "iris.csv  sample_data\n"
          ],
          "name": "stdout"
        }
      ]
    },
    {
      "cell_type": "code",
      "metadata": {
        "id": "9stoGVk-HUqn",
        "colab_type": "code",
        "outputId": "b29f3e7c-18f7-4062-8ad4-7c66ee457cce",
        "colab": {
          "base_uri": "https://localhost:8080/",
          "height": 204
        }
      },
      "source": [
        "import io\n",
        "import pandas as pd\n",
        "\n",
        "df2 = pd.read_csv(io.BytesIO(uploaded['iris.csv']))\n",
        "df2[0:5]"
      ],
      "execution_count": 0,
      "outputs": [
        {
          "output_type": "execute_result",
          "data": {
            "text/html": [
              "<div>\n",
              "<style scoped>\n",
              "    .dataframe tbody tr th:only-of-type {\n",
              "        vertical-align: middle;\n",
              "    }\n",
              "\n",
              "    .dataframe tbody tr th {\n",
              "        vertical-align: top;\n",
              "    }\n",
              "\n",
              "    .dataframe thead th {\n",
              "        text-align: right;\n",
              "    }\n",
              "</style>\n",
              "<table border=\"1\" class=\"dataframe\">\n",
              "  <thead>\n",
              "    <tr style=\"text-align: right;\">\n",
              "      <th></th>\n",
              "      <th>sepal.length</th>\n",
              "      <th>sepal.width</th>\n",
              "      <th>petal.length</th>\n",
              "      <th>petal.width</th>\n",
              "      <th>variety</th>\n",
              "    </tr>\n",
              "  </thead>\n",
              "  <tbody>\n",
              "    <tr>\n",
              "      <th>0</th>\n",
              "      <td>5.1</td>\n",
              "      <td>3.5</td>\n",
              "      <td>1.4</td>\n",
              "      <td>0.2</td>\n",
              "      <td>Setosa</td>\n",
              "    </tr>\n",
              "    <tr>\n",
              "      <th>1</th>\n",
              "      <td>4.9</td>\n",
              "      <td>3.0</td>\n",
              "      <td>1.4</td>\n",
              "      <td>0.2</td>\n",
              "      <td>Setosa</td>\n",
              "    </tr>\n",
              "    <tr>\n",
              "      <th>2</th>\n",
              "      <td>4.7</td>\n",
              "      <td>3.2</td>\n",
              "      <td>1.3</td>\n",
              "      <td>0.2</td>\n",
              "      <td>Setosa</td>\n",
              "    </tr>\n",
              "    <tr>\n",
              "      <th>3</th>\n",
              "      <td>4.6</td>\n",
              "      <td>3.1</td>\n",
              "      <td>1.5</td>\n",
              "      <td>0.2</td>\n",
              "      <td>Setosa</td>\n",
              "    </tr>\n",
              "    <tr>\n",
              "      <th>4</th>\n",
              "      <td>5.0</td>\n",
              "      <td>3.6</td>\n",
              "      <td>1.4</td>\n",
              "      <td>0.2</td>\n",
              "      <td>Setosa</td>\n",
              "    </tr>\n",
              "  </tbody>\n",
              "</table>\n",
              "</div>"
            ],
            "text/plain": [
              "   sepal.length  sepal.width  petal.length  petal.width variety\n",
              "0           5.1          3.5           1.4          0.2  Setosa\n",
              "1           4.9          3.0           1.4          0.2  Setosa\n",
              "2           4.7          3.2           1.3          0.2  Setosa\n",
              "3           4.6          3.1           1.5          0.2  Setosa\n",
              "4           5.0          3.6           1.4          0.2  Setosa"
            ]
          },
          "metadata": {
            "tags": []
          },
          "execution_count": 23
        }
      ]
    },
    {
      "cell_type": "markdown",
      "metadata": {
        "id": "iLS4mmnncwbL",
        "colab_type": "text"
      },
      "source": [
        "**2. Desde Google Drive**"
      ]
    },
    {
      "cell_type": "code",
      "metadata": {
        "id": "9dqAk3cLc1xx",
        "colab_type": "code",
        "outputId": "c2f38939-33ea-4d86-b6a7-d91854b80c1d",
        "colab": {
          "base_uri": "https://localhost:8080/",
          "height": 122
        }
      },
      "source": [
        "from google.colab import drive\n",
        "drive.mount('/gdrive')\n",
        "# Si colocan algun archivo nuevo\n",
        "#drive.mount(\"/gdrive\", force_remount=True)"
      ],
      "execution_count": 0,
      "outputs": [
        {
          "output_type": "stream",
          "text": [
            "Go to this URL in a browser: https://accounts.google.com/o/oauth2/auth?client_id=947318989803-6bn6qk8qdgf4n4g3pfee6491hc0brc4i.apps.googleusercontent.com&redirect_uri=urn%3Aietf%3Awg%3Aoauth%3A2.0%3Aoob&scope=email%20https%3A%2F%2Fwww.googleapis.com%2Fauth%2Fdocs.test%20https%3A%2F%2Fwww.googleapis.com%2Fauth%2Fdrive%20https%3A%2F%2Fwww.googleapis.com%2Fauth%2Fdrive.photos.readonly%20https%3A%2F%2Fwww.googleapis.com%2Fauth%2Fpeopleapi.readonly&response_type=code\n",
            "\n",
            "Enter your authorization code:\n",
            "··········\n",
            "Mounted at /gdrive\n"
          ],
          "name": "stdout"
        }
      ]
    },
    {
      "cell_type": "code",
      "metadata": {
        "id": "9RgZ0m4YdMmp",
        "colab_type": "code",
        "outputId": "9f309036-4111-4a45-b23b-3c349abecfc2",
        "colab": {
          "base_uri": "https://localhost:8080/",
          "height": 34
        }
      },
      "source": [
        "!ls \"/gdrive/My Drive/Daniel_Quiroga/Universidad del Rosario/Ing. Biomedica/Asignaturas/Informática Médica/DataSets\""
      ],
      "execution_count": 0,
      "outputs": [
        {
          "output_type": "stream",
          "text": [
            "game-of-thrones.json  iris.csv\tshakespeare.txt\n"
          ],
          "name": "stdout"
        }
      ]
    },
    {
      "cell_type": "markdown",
      "metadata": {
        "id": "KhCd14BXUET1",
        "colab_type": "text"
      },
      "source": [
        "## 3. Otra forma"
      ]
    },
    {
      "cell_type": "code",
      "metadata": {
        "id": "KioJ7pExPI-h",
        "colab_type": "code",
        "outputId": "4d68a7d4-b838-4238-dbfc-a9cc4e46b1f9",
        "colab": {
          "base_uri": "https://localhost:8080/",
          "height": 391
        }
      },
      "source": [
        "#Instalación de librerias para acceder y autenticarse a GoogleDrive\n",
        "!pip install pydrive\n",
        "from pydrive.auth import GoogleAuth\n",
        "from pydrive.drive import GoogleDrive\n",
        "from google.colab import auth\n",
        "from oauth2client.client import GoogleCredentials\n",
        " \n",
        "# Autenticación y creación de usuario (cliente) de PyDrive\n",
        "auth.authenticate_user()\n",
        "gauth = GoogleAuth()\n",
        "gauth.credentials = GoogleCredentials.get_application_default()\n",
        "drive = GoogleDrive(gauth)"
      ],
      "execution_count": 0,
      "outputs": [
        {
          "output_type": "stream",
          "text": [
            "Collecting pydrive\n",
            "\u001b[?25l  Downloading https://files.pythonhosted.org/packages/52/e0/0e64788e5dd58ce2d6934549676243dc69d982f198524be9b99e9c2a4fd5/PyDrive-1.3.1.tar.gz (987kB)\n",
            "\u001b[K     |████████████████████████████████| 993kB 2.8MB/s \n",
            "\u001b[?25hRequirement already satisfied: google-api-python-client>=1.2 in /usr/local/lib/python3.6/dist-packages (from pydrive) (1.7.10)\n",
            "Requirement already satisfied: oauth2client>=4.0.0 in /usr/local/lib/python3.6/dist-packages (from pydrive) (4.1.3)\n",
            "Requirement already satisfied: PyYAML>=3.0 in /usr/local/lib/python3.6/dist-packages (from pydrive) (3.13)\n",
            "Requirement already satisfied: six<2dev,>=1.6.1 in /usr/local/lib/python3.6/dist-packages (from google-api-python-client>=1.2->pydrive) (1.12.0)\n",
            "Requirement already satisfied: uritemplate<4dev,>=3.0.0 in /usr/local/lib/python3.6/dist-packages (from google-api-python-client>=1.2->pydrive) (3.0.0)\n",
            "Requirement already satisfied: httplib2<1dev,>=0.9.2 in /usr/local/lib/python3.6/dist-packages (from google-api-python-client>=1.2->pydrive) (0.11.3)\n",
            "Requirement already satisfied: google-auth-httplib2>=0.0.3 in /usr/local/lib/python3.6/dist-packages (from google-api-python-client>=1.2->pydrive) (0.0.3)\n",
            "Requirement already satisfied: google-auth>=1.4.1 in /usr/local/lib/python3.6/dist-packages (from google-api-python-client>=1.2->pydrive) (1.4.2)\n",
            "Requirement already satisfied: rsa>=3.1.4 in /usr/local/lib/python3.6/dist-packages (from oauth2client>=4.0.0->pydrive) (4.0)\n",
            "Requirement already satisfied: pyasn1-modules>=0.0.5 in /usr/local/lib/python3.6/dist-packages (from oauth2client>=4.0.0->pydrive) (0.2.6)\n",
            "Requirement already satisfied: pyasn1>=0.1.7 in /usr/local/lib/python3.6/dist-packages (from oauth2client>=4.0.0->pydrive) (0.4.6)\n",
            "Requirement already satisfied: cachetools>=2.0.0 in /usr/local/lib/python3.6/dist-packages (from google-auth>=1.4.1->google-api-python-client>=1.2->pydrive) (3.1.1)\n",
            "Building wheels for collected packages: pydrive\n",
            "  Building wheel for pydrive (setup.py) ... \u001b[?25l\u001b[?25hdone\n",
            "  Created wheel for pydrive: filename=PyDrive-1.3.1-cp36-none-any.whl size=27435 sha256=e8274b2b7bbf0be1e259980ec15372d42c8c3a2361d2196ac68dbf26fb363324\n",
            "  Stored in directory: /root/.cache/pip/wheels/fa/d2/9a/d3b6b506c2da98289e5d417215ce34b696db856643bad779f4\n",
            "Successfully built pydrive\n",
            "Installing collected packages: pydrive\n",
            "Successfully installed pydrive-1.3.1\n"
          ],
          "name": "stdout"
        }
      ]
    },
    {
      "cell_type": "code",
      "metadata": {
        "id": "dt4niSgpUNW1",
        "colab_type": "code",
        "outputId": "928be592-d85a-4a0c-dd56-dbeb84e69dca",
        "colab": {
          "base_uri": "https://localhost:8080/",
          "height": 68
        }
      },
      "source": [
        "file_list = drive.ListFile({'q': \"'1nmlbSrlkwfYwi7XmFF2dNA0f5d_t0bKO' in parents and trashed=false\"}).GetList()\n",
        "for file1 in file_list:\n",
        "  print('title: %s, id: %s' % (file1['title'], file1['id']))"
      ],
      "execution_count": 0,
      "outputs": [
        {
          "output_type": "stream",
          "text": [
            "title: game-of-thrones.json, id: 1Z7bZ2Jsh9F4ZYFzI_zV55vcHlRNp2aie\n",
            "title: shakespeare.txt, id: 1UWDKvWUbtk8MWjI1vqxAFsr69GzlBsVx\n",
            "title: iris.csv, id: 167nFyFVdvRFPwTeHr1AJ_zaLXRGdGNlw\n"
          ],
          "name": "stdout"
        }
      ]
    },
    {
      "cell_type": "code",
      "metadata": {
        "id": "AL35gkDX3kSZ",
        "colab_type": "code",
        "colab": {}
      },
      "source": [
        "file = drive.CreateFile({'id': '1zGRKbmwbadyrnVxT0Cb8wXS3D7be4XvW'})\n",
        "file.GetContentFile('game_of_thrones.json')"
      ],
      "execution_count": 0,
      "outputs": []
    },
    {
      "cell_type": "code",
      "metadata": {
        "id": "b00fFya8qGPI",
        "colab_type": "code",
        "colab": {}
      },
      "source": [
        "import json\n",
        "from pprint import pprint\n",
        "\n",
        "with open('game_of_thrones.json') as data_file:    \n",
        "    data = json.load(data_file)"
      ],
      "execution_count": 0,
      "outputs": []
    },
    {
      "cell_type": "code",
      "metadata": {
        "id": "bLOcPK5WV9T1",
        "colab_type": "code",
        "outputId": "be610785-563e-49eb-edc0-3df34766b4e3",
        "colab": {
          "base_uri": "https://localhost:8080/",
          "height": 1000
        }
      },
      "source": [
        "data"
      ],
      "execution_count": 0,
      "outputs": [
        {
          "output_type": "execute_result",
          "data": {
            "text/plain": [
              "{'_embedded': {'episodes': [{'_links': {'self': {'href': 'http://api.tvmaze.com/episodes/4952'}},\n",
              "    'airdate': '2011-04-17',\n",
              "    'airstamp': '2011-04-18T01:00:00+00:00',\n",
              "    'airtime': '21:00',\n",
              "    'id': 4952,\n",
              "    'image': {'medium': 'http://static.tvmaze.com/uploads/images/medium_landscape/1/2668.jpg',\n",
              "     'original': 'http://static.tvmaze.com/uploads/images/original_untouched/1/2668.jpg'},\n",
              "    'name': 'Winter is Coming',\n",
              "    'number': 1,\n",
              "    'runtime': 60,\n",
              "    'season': 1,\n",
              "    'summary': \"<p>Lord Eddard Stark, ruler of the North, is summoned to court by his old friend, King Robert Baratheon, to serve as the King's Hand. Eddard reluctantly agrees after learning of a possible threat to the King's life. Eddard's bastard son Jon Snow must make a painful decision about his own future, while in the distant east Viserys Targaryen plots to reclaim his father's throne, usurped by Robert, by selling his sister in marriage.</p>\",\n",
              "    'url': 'http://www.tvmaze.com/episodes/4952/game-of-thrones-1x01-winter-is-coming'},\n",
              "   {'_links': {'self': {'href': 'http://api.tvmaze.com/episodes/4953'}},\n",
              "    'airdate': '2011-04-24',\n",
              "    'airstamp': '2011-04-25T01:00:00+00:00',\n",
              "    'airtime': '21:00',\n",
              "    'id': 4953,\n",
              "    'image': {'medium': 'http://static.tvmaze.com/uploads/images/medium_landscape/1/2669.jpg',\n",
              "     'original': 'http://static.tvmaze.com/uploads/images/original_untouched/1/2669.jpg'},\n",
              "    'name': 'The Kingsroad',\n",
              "    'number': 2,\n",
              "    'runtime': 60,\n",
              "    'season': 1,\n",
              "    'summary': \"<p>An incident on the Kingsroad threatens Eddard and Robert's friendship. Jon and Tyrion travel to the Wall, where they discover that the reality of the Night's Watch may not match the heroic image of it.</p>\",\n",
              "    'url': 'http://www.tvmaze.com/episodes/4953/game-of-thrones-1x02-the-kingsroad'},\n",
              "   {'_links': {'self': {'href': 'http://api.tvmaze.com/episodes/4954'}},\n",
              "    'airdate': '2011-05-01',\n",
              "    'airstamp': '2011-05-02T01:00:00+00:00',\n",
              "    'airtime': '21:00',\n",
              "    'id': 4954,\n",
              "    'image': {'medium': 'http://static.tvmaze.com/uploads/images/medium_landscape/1/2671.jpg',\n",
              "     'original': 'http://static.tvmaze.com/uploads/images/original_untouched/1/2671.jpg'},\n",
              "    'name': 'Lord Snow',\n",
              "    'number': 3,\n",
              "    'runtime': 60,\n",
              "    'season': 1,\n",
              "    'summary': \"<p>Jon Snow attempts to find his place amongst the Night's Watch. Eddard and his daughters arrive at King's Landing.</p>\",\n",
              "    'url': 'http://www.tvmaze.com/episodes/4954/game-of-thrones-1x03-lord-snow'},\n",
              "   {'_links': {'self': {'href': 'http://api.tvmaze.com/episodes/4955'}},\n",
              "    'airdate': '2011-05-08',\n",
              "    'airstamp': '2011-05-09T01:00:00+00:00',\n",
              "    'airtime': '21:00',\n",
              "    'id': 4955,\n",
              "    'image': {'medium': 'http://static.tvmaze.com/uploads/images/medium_landscape/1/2673.jpg',\n",
              "     'original': 'http://static.tvmaze.com/uploads/images/original_untouched/1/2673.jpg'},\n",
              "    'name': 'Cripples, Bastards, and Broken Things',\n",
              "    'number': 4,\n",
              "    'runtime': 60,\n",
              "    'season': 1,\n",
              "    'summary': \"<p>Tyrion stops at Winterfell on his way home and gets a frosty reception from Robb Stark. Eddard's investigation into the death of his predecessor gets underway.</p>\",\n",
              "    'url': 'http://www.tvmaze.com/episodes/4955/game-of-thrones-1x04-cripples-bastards-and-broken-things'},\n",
              "   {'_links': {'self': {'href': 'http://api.tvmaze.com/episodes/4956'}},\n",
              "    'airdate': '2011-05-15',\n",
              "    'airstamp': '2011-05-16T01:00:00+00:00',\n",
              "    'airtime': '21:00',\n",
              "    'id': 4956,\n",
              "    'image': {'medium': 'http://static.tvmaze.com/uploads/images/medium_landscape/1/2674.jpg',\n",
              "     'original': 'http://static.tvmaze.com/uploads/images/original_untouched/1/2674.jpg'},\n",
              "    'name': 'The Wolf and the Lion',\n",
              "    'number': 5,\n",
              "    'runtime': 60,\n",
              "    'season': 1,\n",
              "    'summary': \"<p>Catelyn's actions on the road have repercussions for Eddard. Tyrion enjoys the dubious hospitality of the Eyrie.</p>\",\n",
              "    'url': 'http://www.tvmaze.com/episodes/4956/game-of-thrones-1x05-the-wolf-and-the-lion'},\n",
              "   {'_links': {'self': {'href': 'http://api.tvmaze.com/episodes/4957'}},\n",
              "    'airdate': '2011-05-22',\n",
              "    'airstamp': '2011-05-23T01:00:00+00:00',\n",
              "    'airtime': '21:00',\n",
              "    'id': 4957,\n",
              "    'image': {'medium': 'http://static.tvmaze.com/uploads/images/medium_landscape/1/2676.jpg',\n",
              "     'original': 'http://static.tvmaze.com/uploads/images/original_untouched/1/2676.jpg'},\n",
              "    'name': 'A Golden Crown',\n",
              "    'number': 6,\n",
              "    'runtime': 60,\n",
              "    'season': 1,\n",
              "    'summary': '<p>Viserys is increasingly frustrated by the lack of progress towards gaining his crown.</p>',\n",
              "    'url': 'http://www.tvmaze.com/episodes/4957/game-of-thrones-1x06-a-golden-crown'},\n",
              "   {'_links': {'self': {'href': 'http://api.tvmaze.com/episodes/4958'}},\n",
              "    'airdate': '2011-05-29',\n",
              "    'airstamp': '2011-05-30T01:00:00+00:00',\n",
              "    'airtime': '21:00',\n",
              "    'id': 4958,\n",
              "    'image': {'medium': 'http://static.tvmaze.com/uploads/images/medium_landscape/1/2677.jpg',\n",
              "     'original': 'http://static.tvmaze.com/uploads/images/original_untouched/1/2677.jpg'},\n",
              "    'name': 'You Win or You Die',\n",
              "    'number': 7,\n",
              "    'runtime': 60,\n",
              "    'season': 1,\n",
              "    'summary': \"<p>Eddard's investigations in King's Landing reach a climax and a dark secret is revealed.</p>\",\n",
              "    'url': 'http://www.tvmaze.com/episodes/4958/game-of-thrones-1x07-you-win-or-you-die'},\n",
              "   {'_links': {'self': {'href': 'http://api.tvmaze.com/episodes/4959'}},\n",
              "    'airdate': '2011-06-05',\n",
              "    'airstamp': '2011-06-06T01:00:00+00:00',\n",
              "    'airtime': '21:00',\n",
              "    'id': 4959,\n",
              "    'image': {'medium': 'http://static.tvmaze.com/uploads/images/medium_landscape/1/2678.jpg',\n",
              "     'original': 'http://static.tvmaze.com/uploads/images/original_untouched/1/2678.jpg'},\n",
              "    'name': 'The Pointy End',\n",
              "    'number': 8,\n",
              "    'runtime': 60,\n",
              "    'season': 1,\n",
              "    'summary': \"<p>Tyrion joins his father's army with unexpected allies. Events in King's Landing take a turn for the worse as Arya's lessons are put to the test.</p>\",\n",
              "    'url': 'http://www.tvmaze.com/episodes/4959/game-of-thrones-1x08-the-pointy-end'},\n",
              "   {'_links': {'self': {'href': 'http://api.tvmaze.com/episodes/4960'}},\n",
              "    'airdate': '2011-06-12',\n",
              "    'airstamp': '2011-06-13T01:00:00+00:00',\n",
              "    'airtime': '21:00',\n",
              "    'id': 4960,\n",
              "    'image': {'medium': 'http://static.tvmaze.com/uploads/images/medium_landscape/1/2679.jpg',\n",
              "     'original': 'http://static.tvmaze.com/uploads/images/original_untouched/1/2679.jpg'},\n",
              "    'name': 'Baelor',\n",
              "    'number': 9,\n",
              "    'runtime': 60,\n",
              "    'season': 1,\n",
              "    'summary': '<p>Catelyn must negotiate with the irascible Lord Walder Frey.</p>',\n",
              "    'url': 'http://www.tvmaze.com/episodes/4960/game-of-thrones-1x09-baelor'},\n",
              "   {'_links': {'self': {'href': 'http://api.tvmaze.com/episodes/4961'}},\n",
              "    'airdate': '2011-06-19',\n",
              "    'airstamp': '2011-06-20T01:00:00+00:00',\n",
              "    'airtime': '21:00',\n",
              "    'id': 4961,\n",
              "    'image': {'medium': 'http://static.tvmaze.com/uploads/images/medium_landscape/1/2681.jpg',\n",
              "     'original': 'http://static.tvmaze.com/uploads/images/original_untouched/1/2681.jpg'},\n",
              "    'name': 'Fire and Blood',\n",
              "    'number': 10,\n",
              "    'runtime': 60,\n",
              "    'season': 1,\n",
              "    'summary': '<p>Daenerys must realize her destiny. Jaime finds himself in an unfamiliar predicament.</p>',\n",
              "    'url': 'http://www.tvmaze.com/episodes/4961/game-of-thrones-1x10-fire-and-blood'},\n",
              "   {'_links': {'self': {'href': 'http://api.tvmaze.com/episodes/4962'}},\n",
              "    'airdate': '2012-04-01',\n",
              "    'airstamp': '2012-04-02T01:00:00+00:00',\n",
              "    'airtime': '21:00',\n",
              "    'id': 4962,\n",
              "    'image': {'medium': 'http://static.tvmaze.com/uploads/images/medium_landscape/1/3174.jpg',\n",
              "     'original': 'http://static.tvmaze.com/uploads/images/original_untouched/1/3174.jpg'},\n",
              "    'name': 'The North Remembers',\n",
              "    'number': 1,\n",
              "    'runtime': 60,\n",
              "    'season': 2,\n",
              "    'summary': \"<p>War grips the continent of Westeros. As Tyrion Lannister tries to take his strong-willed nephew in hand in King's Landing, Stannis Baratheon launches his own campaign to take the Iron Throne with the help of a mysterious priestess. In the east, Daenerys must lead her retinue through a desolate wasteland whilst beyond the Wall the Night's Watch seeks the aid of a wildling.</p>\",\n",
              "    'url': 'http://www.tvmaze.com/episodes/4962/game-of-thrones-2x01-the-north-remembers'},\n",
              "   {'_links': {'self': {'href': 'http://api.tvmaze.com/episodes/4963'}},\n",
              "    'airdate': '2012-04-08',\n",
              "    'airstamp': '2012-04-09T01:00:00+00:00',\n",
              "    'airtime': '21:00',\n",
              "    'id': 4963,\n",
              "    'image': {'medium': 'http://static.tvmaze.com/uploads/images/medium_landscape/1/3175.jpg',\n",
              "     'original': 'http://static.tvmaze.com/uploads/images/original_untouched/1/3175.jpg'},\n",
              "    'name': 'The Night Lands',\n",
              "    'number': 2,\n",
              "    'runtime': 60,\n",
              "    'season': 2,\n",
              "    'summary': \"<p>Stannis uses Ser Davos to seek out new allies for his war with the Lannisters. On the road north, Arya confides in Gendry. Robb Stark sends Theon Greyjoy to win an alliance with his father and the fierce warriors of the Iron Islands. Cersei and Tyrion clash on how to rule in King's Landing.</p>\",\n",
              "    'url': 'http://www.tvmaze.com/episodes/4963/game-of-thrones-2x02-the-night-lands'},\n",
              "   {'_links': {'self': {'href': 'http://api.tvmaze.com/episodes/4964'}},\n",
              "    'airdate': '2012-04-15',\n",
              "    'airstamp': '2012-04-16T01:00:00+00:00',\n",
              "    'airtime': '21:00',\n",
              "    'id': 4964,\n",
              "    'image': {'medium': 'http://static.tvmaze.com/uploads/images/medium_landscape/1/3176.jpg',\n",
              "     'original': 'http://static.tvmaze.com/uploads/images/original_untouched/1/3176.jpg'},\n",
              "    'name': 'What is Dead May Never Die',\n",
              "    'number': 3,\n",
              "    'runtime': 60,\n",
              "    'season': 2,\n",
              "    'summary': \"<p>Catelyn Stark treats with King Renly in the hope of winning an alliance. Tyrion undertakes a complex plan in King's Landing to expose an enemy. At Winterfell, Bran's dreams continue to trouble him.</p>\",\n",
              "    'url': 'http://www.tvmaze.com/episodes/4964/game-of-thrones-2x03-what-is-dead-may-never-die'},\n",
              "   {'_links': {'self': {'href': 'http://api.tvmaze.com/episodes/4965'}},\n",
              "    'airdate': '2012-04-22',\n",
              "    'airstamp': '2012-04-23T01:00:00+00:00',\n",
              "    'airtime': '21:00',\n",
              "    'id': 4965,\n",
              "    'image': {'medium': 'http://static.tvmaze.com/uploads/images/medium_landscape/1/3177.jpg',\n",
              "     'original': 'http://static.tvmaze.com/uploads/images/original_untouched/1/3177.jpg'},\n",
              "    'name': 'Garden of Bones',\n",
              "    'number': 4,\n",
              "    'runtime': 60,\n",
              "    'season': 2,\n",
              "    'summary': \"<p>Tyrion attempts to restrain Joffrey's cruelty. Catelyn attempts to broker a peace between Stannis and Renly. Daenerys and her followers arrive at the great city of Qarth and hope to find refuge there. Arya and Gendry arrive at Harrenhal, a great castle now under Lannister occupation.</p>\",\n",
              "    'url': 'http://www.tvmaze.com/episodes/4965/game-of-thrones-2x04-garden-of-bones'},\n",
              "   {'_links': {'self': {'href': 'http://api.tvmaze.com/episodes/4966'}},\n",
              "    'airdate': '2012-04-29',\n",
              "    'airstamp': '2012-04-30T01:00:00+00:00',\n",
              "    'airtime': '21:00',\n",
              "    'id': 4966,\n",
              "    'image': {'medium': 'http://static.tvmaze.com/uploads/images/medium_landscape/1/3178.jpg',\n",
              "     'original': 'http://static.tvmaze.com/uploads/images/original_untouched/1/3178.jpg'},\n",
              "    'name': 'The Ghost of Harrenhal',\n",
              "    'number': 5,\n",
              "    'runtime': 60,\n",
              "    'season': 2,\n",
              "    'summary': \"<p>Confusion rages in the Stormlands in the wake of a devastating reversal. Catelyn must flee with a new ally, whilst Littlefinger sees an opportunity in the chaos. Theon seeks to prove himself to his father in battle. Arya receives a promise from the enigmatic Jaqen H'ghar. The Night's Watch arrives at the Fist of the First Men. Daenerys Targaryen receives a marriage proposal.</p>\",\n",
              "    'url': 'http://www.tvmaze.com/episodes/4966/game-of-thrones-2x05-the-ghost-of-harrenhal'},\n",
              "   {'_links': {'self': {'href': 'http://api.tvmaze.com/episodes/4967'}},\n",
              "    'airdate': '2012-05-06',\n",
              "    'airstamp': '2012-05-07T01:00:00+00:00',\n",
              "    'airtime': '21:00',\n",
              "    'id': 4967,\n",
              "    'image': {'medium': 'http://static.tvmaze.com/uploads/images/medium_landscape/1/3180.jpg',\n",
              "     'original': 'http://static.tvmaze.com/uploads/images/original_untouched/1/3180.jpg'},\n",
              "    'name': 'The Old Gods and the New',\n",
              "    'number': 6,\n",
              "    'runtime': 60,\n",
              "    'season': 2,\n",
              "    'summary': '<p>Arya has a surprise visitor; Dany vows to take what is hers; Joffrey meets his subjects; Qhorin gives Jon a chance to prove himself.</p>',\n",
              "    'url': 'http://www.tvmaze.com/episodes/4967/game-of-thrones-2x06-the-old-gods-and-the-new'},\n",
              "   {'_links': {'self': {'href': 'http://api.tvmaze.com/episodes/4968'}},\n",
              "    'airdate': '2012-05-13',\n",
              "    'airstamp': '2012-05-14T01:00:00+00:00',\n",
              "    'airtime': '21:00',\n",
              "    'id': 4968,\n",
              "    'image': {'medium': 'http://static.tvmaze.com/uploads/images/medium_landscape/1/3192.jpg',\n",
              "     'original': 'http://static.tvmaze.com/uploads/images/original_untouched/1/3192.jpg'},\n",
              "    'name': 'A Man Without Honor',\n",
              "    'number': 7,\n",
              "    'runtime': 60,\n",
              "    'season': 2,\n",
              "    'summary': '<p>Jaime meets a relative; Theon hunts; Dany receives an invitation.</p>',\n",
              "    'url': 'http://www.tvmaze.com/episodes/4968/game-of-thrones-2x07-a-man-without-honor'},\n",
              "   {'_links': {'self': {'href': 'http://api.tvmaze.com/episodes/4969'}},\n",
              "    'airdate': '2012-05-20',\n",
              "    'airstamp': '2012-05-21T01:00:00+00:00',\n",
              "    'airtime': '21:00',\n",
              "    'id': 4969,\n",
              "    'image': {'medium': 'http://static.tvmaze.com/uploads/images/medium_landscape/1/3194.jpg',\n",
              "     'original': 'http://static.tvmaze.com/uploads/images/original_untouched/1/3194.jpg'},\n",
              "    'name': 'The Prince of Winterfell',\n",
              "    'number': 8,\n",
              "    'runtime': 60,\n",
              "    'season': 2,\n",
              "    'summary': '<p>Theon holds the fort; Arya calls in her debt with Jaqen; Robb is betrayed; Stannis and Davos approach their destination.</p>',\n",
              "    'url': 'http://www.tvmaze.com/episodes/4969/game-of-thrones-2x08-the-prince-of-winterfell'},\n",
              "   {'_links': {'self': {'href': 'http://api.tvmaze.com/episodes/4970'}},\n",
              "    'airdate': '2012-05-27',\n",
              "    'airstamp': '2012-05-28T01:00:00+00:00',\n",
              "    'airtime': '21:00',\n",
              "    'id': 4970,\n",
              "    'image': {'medium': 'http://static.tvmaze.com/uploads/images/medium_landscape/1/3196.jpg',\n",
              "     'original': 'http://static.tvmaze.com/uploads/images/original_untouched/1/3196.jpg'},\n",
              "    'name': 'Blackwater',\n",
              "    'number': 9,\n",
              "    'runtime': 60,\n",
              "    'season': 2,\n",
              "    'summary': \"<p>A massive battle rages for control of King's Landing and the Iron Throne.</p>\",\n",
              "    'url': 'http://www.tvmaze.com/episodes/4970/game-of-thrones-2x09-blackwater'},\n",
              "   {'_links': {'self': {'href': 'http://api.tvmaze.com/episodes/4971'}},\n",
              "    'airdate': '2012-06-03',\n",
              "    'airstamp': '2012-06-04T01:00:00+00:00',\n",
              "    'airtime': '21:00',\n",
              "    'id': 4971,\n",
              "    'image': {'medium': 'http://static.tvmaze.com/uploads/images/medium_landscape/1/3197.jpg',\n",
              "     'original': 'http://static.tvmaze.com/uploads/images/original_untouched/1/3197.jpg'},\n",
              "    'name': 'Valar Morghulis',\n",
              "    'number': 10,\n",
              "    'runtime': 60,\n",
              "    'season': 2,\n",
              "    'summary': '<p>Tyrion awakens to a changed situation. King Joffrey doles out rewards to his subjects. As Theon stirs his men to action, Luwin offers some final advice. Brienne silences Jaime; Arya receives a gift from Jaqen; Dany goes to a strange place; Jon proves himself to Qhorin.</p>',\n",
              "    'url': 'http://www.tvmaze.com/episodes/4971/game-of-thrones-2x10-valar-morghulis'},\n",
              "   {'_links': {'self': {'href': 'http://api.tvmaze.com/episodes/4972'}},\n",
              "    'airdate': '2013-03-31',\n",
              "    'airstamp': '2013-04-01T01:00:00+00:00',\n",
              "    'airtime': '21:00',\n",
              "    'id': 4972,\n",
              "    'image': {'medium': 'http://static.tvmaze.com/uploads/images/medium_landscape/1/2628.jpg',\n",
              "     'original': 'http://static.tvmaze.com/uploads/images/original_untouched/1/2628.jpg'},\n",
              "    'name': 'Valar Dohaeris',\n",
              "    'number': 1,\n",
              "    'runtime': 60,\n",
              "    'season': 3,\n",
              "    'summary': \"<p></p><p>Jon is brought before Mance Rayder, the King Beyond the Wall, while the Night's Watch survivors retreat south. In King's Landing, Tyrion asks for his reward. Littlefinger offers Sansa a way out. Cersei hosts a dinner for the royal family. Daenerys sails into Slaver's Bay.</p>\",\n",
              "    'url': 'http://www.tvmaze.com/episodes/4972/game-of-thrones-3x01-valar-dohaeris'},\n",
              "   {'_links': {'self': {'href': 'http://api.tvmaze.com/episodes/4973'}},\n",
              "    'airdate': '2013-04-07',\n",
              "    'airstamp': '2013-04-08T01:00:00+00:00',\n",
              "    'airtime': '21:00',\n",
              "    'id': 4973,\n",
              "    'image': {'medium': 'http://static.tvmaze.com/uploads/images/medium_landscape/1/2618.jpg',\n",
              "     'original': 'http://static.tvmaze.com/uploads/images/original_untouched/1/2618.jpg'},\n",
              "    'name': 'Dark Wings, Dark Words',\n",
              "    'number': 2,\n",
              "    'runtime': 60,\n",
              "    'season': 3,\n",
              "    'summary': '<p></p><p>Sansa (Sophie Turner) says too much. Shae (Sibel Kekilli) asks Tyrion (Peter Dinklage) for a favor. Jaime (Nikolaj Coster-Waldau) finds a way to pass the time. Arya (Maisie Williams) runs into the Brotherhood Without Banners.</p>',\n",
              "    'url': 'http://www.tvmaze.com/episodes/4973/game-of-thrones-3x02-dark-wings-dark-words'},\n",
              "   {'_links': {'self': {'href': 'http://api.tvmaze.com/episodes/4974'}},\n",
              "    'airdate': '2013-04-14',\n",
              "    'airstamp': '2013-04-15T01:00:00+00:00',\n",
              "    'airtime': '21:00',\n",
              "    'id': 4974,\n",
              "    'image': {'medium': 'http://static.tvmaze.com/uploads/images/medium_landscape/1/2616.jpg',\n",
              "     'original': 'http://static.tvmaze.com/uploads/images/original_untouched/1/2616.jpg'},\n",
              "    'name': 'Walk of Punishment',\n",
              "    'number': 3,\n",
              "    'runtime': 60,\n",
              "    'season': 3,\n",
              "    'summary': '<p></p><p>Tyrion shoulders new responsibilities. Jon (Kit Harington) is taken to the Fist of the First Men. Daenerys (Emilia Clarke) meets with the slavers. Jaime strikes a deal with his captors.</p>',\n",
              "    'url': 'http://www.tvmaze.com/episodes/4974/game-of-thrones-3x03-walk-of-punishment'},\n",
              "   {'_links': {'self': {'href': 'http://api.tvmaze.com/episodes/4975'}},\n",
              "    'airdate': '2013-04-21',\n",
              "    'airstamp': '2013-04-22T01:00:00+00:00',\n",
              "    'airtime': '21:00',\n",
              "    'id': 4975,\n",
              "    'image': {'medium': 'http://static.tvmaze.com/uploads/images/medium_landscape/1/2615.jpg',\n",
              "     'original': 'http://static.tvmaze.com/uploads/images/original_untouched/1/2615.jpg'},\n",
              "    'name': 'And Now His Watch is Ended',\n",
              "    'number': 4,\n",
              "    'runtime': 60,\n",
              "    'season': 3,\n",
              "    'summary': \"<p></p><p>The Night's Watch takes stock. Varys (Conleth Hill) meets his better. Arya is taken to the commander of the Brotherhood. Daenerys exchanges a chain for a Whip.</p>\",\n",
              "    'url': 'http://www.tvmaze.com/episodes/4975/game-of-thrones-3x04-and-now-his-watch-is-ended'},\n",
              "   {'_links': {'self': {'href': 'http://api.tvmaze.com/episodes/4976'}},\n",
              "    'airdate': '2013-04-28',\n",
              "    'airstamp': '2013-04-29T01:00:00+00:00',\n",
              "    'airtime': '21:00',\n",
              "    'id': 4976,\n",
              "    'image': {'medium': 'http://static.tvmaze.com/uploads/images/medium_landscape/1/2614.jpg',\n",
              "     'original': 'http://static.tvmaze.com/uploads/images/original_untouched/1/2614.jpg'},\n",
              "    'name': 'Kissed by Fire',\n",
              "    'number': 5,\n",
              "    'runtime': 60,\n",
              "    'season': 3,\n",
              "    'summary': '<p></p><p>The Hound (Rory McCann) is judged by the gods; Jaime is judged by men. Jon proves himself; Robb (Richard Madden) is betrayed. Tyrion learns the cost of weddings.</p>',\n",
              "    'url': 'http://www.tvmaze.com/episodes/4976/game-of-thrones-3x05-kissed-by-fire'},\n",
              "   {'_links': {'self': {'href': 'http://api.tvmaze.com/episodes/4977'}},\n",
              "    'airdate': '2013-05-05',\n",
              "    'airstamp': '2013-05-06T01:00:00+00:00',\n",
              "    'airtime': '21:00',\n",
              "    'id': 4977,\n",
              "    'image': {'medium': 'http://static.tvmaze.com/uploads/images/medium_landscape/1/2612.jpg',\n",
              "     'original': 'http://static.tvmaze.com/uploads/images/original_untouched/1/2612.jpg'},\n",
              "    'name': 'The Climb',\n",
              "    'number': 6,\n",
              "    'runtime': 60,\n",
              "    'season': 3,\n",
              "    'summary': '<p></p><p>Tywin (Charles Dance) plans strategic unions for the Lannisters. Melisandre (Carice van Houten) visits the Riverlands. Robb (Richard Madden) weighs a compromise to repair his alliance with House Frey. Roose Bolton (Michael McElhatton) decides what to do with Jaime Lannister (Nikolaj Coster-Waldau). Jon (Kit Harington), Ygritte (Rose Leslie) and the Wildlings face a daunting climb.</p>',\n",
              "    'url': 'http://www.tvmaze.com/episodes/4977/game-of-thrones-3x06-the-climb'},\n",
              "   {'_links': {'self': {'href': 'http://api.tvmaze.com/episodes/4978'}},\n",
              "    'airdate': '2013-05-12',\n",
              "    'airstamp': '2013-05-13T01:00:00+00:00',\n",
              "    'airtime': '21:00',\n",
              "    'id': 4978,\n",
              "    'image': {'medium': 'http://static.tvmaze.com/uploads/images/medium_landscape/1/2611.jpg',\n",
              "     'original': 'http://static.tvmaze.com/uploads/images/original_untouched/1/2611.jpg'},\n",
              "    'name': 'The Bear and the Maiden Fair',\n",
              "    'number': 7,\n",
              "    'runtime': 60,\n",
              "    'season': 3,\n",
              "    'summary': \"<p></p><p>Daenerys (Emilia Clarke) exchanges gifts with a slave lord outside Yunkai. As Sansa (Sophie Turner) frets about her prospects, Shae (Sibel Kekilli) chafes at Tyrion's (Peter Dinklage) new situation. Tywin counsels the king, and Melisandre reveals a secret to Gendry (Joe Dempsie). Brienne (Gwendoline Christie) faces a formidable foe in Harrenhal.</p>\",\n",
              "    'url': 'http://www.tvmaze.com/episodes/4978/game-of-thrones-3x07-the-bear-and-the-maiden-fair'},\n",
              "   {'_links': {'self': {'href': 'http://api.tvmaze.com/episodes/4979'}},\n",
              "    'airdate': '2013-05-19',\n",
              "    'airstamp': '2013-05-20T01:00:00+00:00',\n",
              "    'airtime': '21:00',\n",
              "    'id': 4979,\n",
              "    'image': {'medium': 'http://static.tvmaze.com/uploads/images/medium_landscape/1/2599.jpg',\n",
              "     'original': 'http://static.tvmaze.com/uploads/images/original_untouched/1/2599.jpg'},\n",
              "    'name': 'Second Sons',\n",
              "    'number': 8,\n",
              "    'runtime': 60,\n",
              "    'season': 3,\n",
              "    'summary': \"<p>King's Landing hosts a wedding, and Tyrion and Sansa spend the night together. Daenerys meets the Titan's Bastard. Davos (Liam Cunningham) demands proof from Melisandre. Sam (John Bradley) and Gilly (Hannah Murray) meet an older Gentleman.</p>\",\n",
              "    'url': 'http://www.tvmaze.com/episodes/4979/game-of-thrones-3x08-second-sons'},\n",
              "   {'_links': {'self': {'href': 'http://api.tvmaze.com/episodes/4980'}},\n",
              "    'airdate': '2013-06-02',\n",
              "    'airstamp': '2013-06-03T01:00:00+00:00',\n",
              "    'airtime': '21:00',\n",
              "    'id': 4980,\n",
              "    'image': {'medium': 'http://static.tvmaze.com/uploads/images/medium_landscape/1/2598.jpg',\n",
              "     'original': 'http://static.tvmaze.com/uploads/images/original_untouched/1/2598.jpg'},\n",
              "    'name': 'The Rains of Castamere',\n",
              "    'number': 9,\n",
              "    'runtime': 60,\n",
              "    'season': 3,\n",
              "    'summary': '<p></p><p>Robb (Richard Madden) presents himself to Walder Frey (David Bradley), and Edmure (Tobias Menzies) meets his bride. Jon (Kit Harington) faces his harshest test yet. Bran (Isaac Hempstead Wright) discovers a new gift. Daario (Ed Skrein) and Jorah (Iain Glen) debate how to take Yunkai. House Frey joins with House Tully.</p>',\n",
              "    'url': 'http://www.tvmaze.com/episodes/4980/game-of-thrones-3x09-the-rains-of-castamere'},\n",
              "   {'_links': {'self': {'href': 'http://api.tvmaze.com/episodes/4981'}},\n",
              "    'airdate': '2013-06-09',\n",
              "    'airstamp': '2013-06-10T01:00:00+00:00',\n",
              "    'airtime': '21:00',\n",
              "    'id': 4981,\n",
              "    'image': {'medium': 'http://static.tvmaze.com/uploads/images/medium_landscape/1/2597.jpg',\n",
              "     'original': 'http://static.tvmaze.com/uploads/images/original_untouched/1/2597.jpg'},\n",
              "    'name': 'Mhysa',\n",
              "    'number': 10,\n",
              "    'runtime': 60,\n",
              "    'season': 3,\n",
              "    'summary': '<p></p><p>Joffrey (Jack Gleeson) challenges Tywin (Charles Dance). Bran tells a ghost story. In Dragonstone, mercy comes from strange quarters. Daenerys (Emilia Clarke) waits to see if she is a conqueror or a liberator.</p>',\n",
              "    'url': 'http://www.tvmaze.com/episodes/4981/game-of-thrones-3x10-mhysa'},\n",
              "   {'_links': {'self': {'href': 'http://api.tvmaze.com/episodes/4982'}},\n",
              "    'airdate': '2014-04-06',\n",
              "    'airstamp': '2014-04-07T01:00:00+00:00',\n",
              "    'airtime': '21:00',\n",
              "    'id': 4982,\n",
              "    'image': {'medium': 'http://static.tvmaze.com/uploads/images/medium_landscape/1/2583.jpg',\n",
              "     'original': 'http://static.tvmaze.com/uploads/images/original_untouched/1/2583.jpg'},\n",
              "    'name': 'Two Swords',\n",
              "    'number': 1,\n",
              "    'runtime': 60,\n",
              "    'season': 4,\n",
              "    'summary': \"<p></p><p>Tyrion (Peter Dinklage) welcomes a guest to King's Landing. At Castle Black, Jon Snow (Kit Harington) finds himself unwelcome. Dany (Emilia Clarke) is pointed to Meereen, the mother of all slave cities. Arya (Maisie Williams) runs into an old friend.</p>\",\n",
              "    'url': 'http://www.tvmaze.com/episodes/4982/game-of-thrones-4x01-two-swords'},\n",
              "   {'_links': {'self': {'href': 'http://api.tvmaze.com/episodes/4983'}},\n",
              "    'airdate': '2014-04-13',\n",
              "    'airstamp': '2014-04-14T01:00:00+00:00',\n",
              "    'airtime': '21:00',\n",
              "    'id': 4983,\n",
              "    'image': {'medium': 'http://static.tvmaze.com/uploads/images/medium_landscape/1/2584.jpg',\n",
              "     'original': 'http://static.tvmaze.com/uploads/images/original_untouched/1/2584.jpg'},\n",
              "    'name': 'The Lion and the Rose',\n",
              "    'number': 2,\n",
              "    'runtime': 60,\n",
              "    'season': 4,\n",
              "    'summary': '<p></p><p>Tyrion lends Jaime (Nikolaj Coster-Waldau) a hand. Joffrey (Jack Gleeson) and Margaery (Natalie Dormer) host a breakfast. At Dragonstone, Stannis (Stephen Dillane) loses patience with Davos (Liam Cunningham). Ramsay (Iwan Rheon) finds a purpose for his pet. North of the Wall, Bran (Isaac Hempstead Wright) sees where they must go.</p>',\n",
              "    'url': 'http://www.tvmaze.com/episodes/4983/game-of-thrones-4x02-the-lion-and-the-rose'},\n",
              "   {'_links': {'self': {'href': 'http://api.tvmaze.com/episodes/4984'}},\n",
              "    'airdate': '2014-04-20',\n",
              "    'airstamp': '2014-04-21T01:00:00+00:00',\n",
              "    'airtime': '21:00',\n",
              "    'id': 4984,\n",
              "    'image': {'medium': 'http://static.tvmaze.com/uploads/images/medium_landscape/1/2585.jpg',\n",
              "     'original': 'http://static.tvmaze.com/uploads/images/original_untouched/1/2585.jpg'},\n",
              "    'name': 'Breaker of Chains',\n",
              "    'number': 3,\n",
              "    'runtime': 60,\n",
              "    'season': 4,\n",
              "    'summary': \"<p></p><p>Tyrion ponders his options. Tywin (Charles Dance) extends an olive branch. Sam (John Bradley) realizes Castle Black isn't safe, and Jon proposes a bold plan. The Hound (Rory McCann) teaches Arya the way things are. Dany chooses her Champion.</p>\",\n",
              "    'url': 'http://www.tvmaze.com/episodes/4984/game-of-thrones-4x03-breaker-of-chains'},\n",
              "   {'_links': {'self': {'href': 'http://api.tvmaze.com/episodes/4985'}},\n",
              "    'airdate': '2014-04-27',\n",
              "    'airstamp': '2014-04-28T01:00:00+00:00',\n",
              "    'airtime': '21:00',\n",
              "    'id': 4985,\n",
              "    'image': {'medium': 'http://static.tvmaze.com/uploads/images/medium_landscape/1/2586.jpg',\n",
              "     'original': 'http://static.tvmaze.com/uploads/images/original_untouched/1/2586.jpg'},\n",
              "    'name': 'Oathkeeper',\n",
              "    'number': 4,\n",
              "    'runtime': 60,\n",
              "    'season': 4,\n",
              "    'summary': '<p></p><p>Dany balances justice and mercy. Jaime tasks Brienne (Gwendoline Christie) with his honor. Jon secures volunteers while Bran, Jojen (Thomas Brodie-Sangster), Meera (Ellie Kendrick) and Hodor (Kristian Nairn) stumble on shelter.</p>',\n",
              "    'url': 'http://www.tvmaze.com/episodes/4985/game-of-thrones-4x04-oathkeeper'},\n",
              "   {'_links': {'self': {'href': 'http://api.tvmaze.com/episodes/4986'}},\n",
              "    'airdate': '2014-05-04',\n",
              "    'airstamp': '2014-05-05T01:00:00+00:00',\n",
              "    'airtime': '21:00',\n",
              "    'id': 4986,\n",
              "    'image': {'medium': 'http://static.tvmaze.com/uploads/images/medium_landscape/1/2587.jpg',\n",
              "     'original': 'http://static.tvmaze.com/uploads/images/original_untouched/1/2587.jpg'},\n",
              "    'name': 'First of His Name',\n",
              "    'number': 5,\n",
              "    'runtime': 60,\n",
              "    'season': 4,\n",
              "    'summary': \"<p></p><p>Cersei (Lena Headey) and Tywin (Charles Dance) plot the Crown's next move. Dany (Emilia Clarke) discusses future plans. Jon (Kit Harington) embarks on a new mission.</p>\",\n",
              "    'url': 'http://www.tvmaze.com/episodes/4986/game-of-thrones-4x05-first-of-his-name'},\n",
              "   {'_links': {'self': {'href': 'http://api.tvmaze.com/episodes/4987'}},\n",
              "    'airdate': '2014-05-11',\n",
              "    'airstamp': '2014-05-12T01:00:00+00:00',\n",
              "    'airtime': '21:00',\n",
              "    'id': 4987,\n",
              "    'image': {'medium': 'http://static.tvmaze.com/uploads/images/medium_landscape/1/2588.jpg',\n",
              "     'original': 'http://static.tvmaze.com/uploads/images/original_untouched/1/2588.jpg'},\n",
              "    'name': 'The Laws of Gods and Men',\n",
              "    'number': 6,\n",
              "    'runtime': 60,\n",
              "    'season': 4,\n",
              "    'summary': '<p></p><p>Stannis (Stephen Dillane) and Davos (Liam Cunningham) set sail with a new strategy. Dany meets with supplicants. Tyrion (Peter Dinklage) faces down his father in the throne room.</p>',\n",
              "    'url': 'http://www.tvmaze.com/episodes/4987/game-of-thrones-4x06-the-laws-of-gods-and-men'},\n",
              "   {'_links': {'self': {'href': 'http://api.tvmaze.com/episodes/4988'}},\n",
              "    'airdate': '2014-05-18',\n",
              "    'airstamp': '2014-05-19T01:00:00+00:00',\n",
              "    'airtime': '21:00',\n",
              "    'id': 4988,\n",
              "    'image': {'medium': 'http://static.tvmaze.com/uploads/images/medium_landscape/1/2589.jpg',\n",
              "     'original': 'http://static.tvmaze.com/uploads/images/original_untouched/1/2589.jpg'},\n",
              "    'name': 'Mockingbird',\n",
              "    'number': 7,\n",
              "    'runtime': 60,\n",
              "    'season': 4,\n",
              "    'summary': \"<p></p><p>Tyrion enlists an unlikely ally. Daario (Michiel Huisman) entreats Dany to allow him to do what he does best. Jon's warnings about the Wall's vulnerability fall on deaf ears. Brienne (Gwendoline Christie) follows a new lead on the road with Pod (Daniel Portman).</p>\",\n",
              "    'url': 'http://www.tvmaze.com/episodes/4988/game-of-thrones-4x07-mockingbird'},\n",
              "   {'_links': {'self': {'href': 'http://api.tvmaze.com/episodes/4989'}},\n",
              "    'airdate': '2014-06-01',\n",
              "    'airstamp': '2014-06-02T01:00:00+00:00',\n",
              "    'airtime': '21:00',\n",
              "    'id': 4989,\n",
              "    'image': {'medium': 'http://static.tvmaze.com/uploads/images/medium_landscape/1/2591.jpg',\n",
              "     'original': 'http://static.tvmaze.com/uploads/images/original_untouched/1/2591.jpg'},\n",
              "    'name': 'The Mountain and the Viper',\n",
              "    'number': 8,\n",
              "    'runtime': 60,\n",
              "    'season': 4,\n",
              "    'summary': \"<p></p><p>Mole's Town receives unexpected visitors. Littlefinger's (Aidan Gillen) motives are questioned. Ramsay (Iwan Rhoen) attempts to prove himself to his father. Tyrion's (Peter Dinklage) fate is decided.</p>\",\n",
              "    'url': 'http://www.tvmaze.com/episodes/4989/game-of-thrones-4x08-the-mountain-and-the-viper'},\n",
              "   {'_links': {'self': {'href': 'http://api.tvmaze.com/episodes/4990'}},\n",
              "    'airdate': '2014-06-08',\n",
              "    'airstamp': '2014-06-09T01:00:00+00:00',\n",
              "    'airtime': '21:00',\n",
              "    'id': 4990,\n",
              "    'image': {'medium': 'http://static.tvmaze.com/uploads/images/medium_landscape/1/2593.jpg',\n",
              "     'original': 'http://static.tvmaze.com/uploads/images/original_untouched/1/2593.jpg'},\n",
              "    'name': 'The Watchers on the Wall',\n",
              "    'number': 9,\n",
              "    'runtime': 60,\n",
              "    'season': 4,\n",
              "    'summary': \"<p></p><p>Jon Snow (Kit Harington) and the rest of the Night's Watch face the biggest challenge to the Wall yet.</p>\",\n",
              "    'url': 'http://www.tvmaze.com/episodes/4990/game-of-thrones-4x09-the-watchers-on-the-wall'},\n",
              "   {'_links': {'self': {'href': 'http://api.tvmaze.com/episodes/4991'}},\n",
              "    'airdate': '2014-06-15',\n",
              "    'airstamp': '2014-06-16T01:00:00+00:00',\n",
              "    'airtime': '21:00',\n",
              "    'id': 4991,\n",
              "    'image': {'medium': 'http://static.tvmaze.com/uploads/images/medium_landscape/1/2594.jpg',\n",
              "     'original': 'http://static.tvmaze.com/uploads/images/original_untouched/1/2594.jpg'},\n",
              "    'name': 'The Children',\n",
              "    'number': 10,\n",
              "    'runtime': 60,\n",
              "    'season': 4,\n",
              "    'summary': '<p></p><p>An unexpected arrival north of the Wall changes circumstances. Dany (Emilia Clarke) is forced to face harsh realities. Bran (Isaac Hempstead Wright) learns more of his destiny. Tyrion sees the truth of his Situation.</p>',\n",
              "    'url': 'http://www.tvmaze.com/episodes/4991/game-of-thrones-4x10-the-children'},\n",
              "   {'_links': {'self': {'href': 'http://api.tvmaze.com/episodes/116522'}},\n",
              "    'airdate': '2015-04-12',\n",
              "    'airstamp': '2015-04-13T01:00:00+00:00',\n",
              "    'airtime': '21:00',\n",
              "    'id': 116522,\n",
              "    'image': {'medium': 'http://static.tvmaze.com/uploads/images/medium_landscape/10/25988.jpg',\n",
              "     'original': 'http://static.tvmaze.com/uploads/images/original_untouched/10/25988.jpg'},\n",
              "    'name': 'The Wars to Come',\n",
              "    'number': 1,\n",
              "    'runtime': 60,\n",
              "    'season': 5,\n",
              "    'summary': \"<p>In the Season 5 premiere, Varys discusses a conspiracy with Tyrion; Daenerys' rule faces a new threat; Jon finds himself between two kings; and Cersei and Jaime try to move on from Tywin's demise.</p>\",\n",
              "    'url': 'http://www.tvmaze.com/episodes/116522/game-of-thrones-5x01-the-wars-to-come'},\n",
              "   {'_links': {'self': {'href': 'http://api.tvmaze.com/episodes/144328'}},\n",
              "    'airdate': '2015-04-19',\n",
              "    'airstamp': '2015-04-20T01:00:00+00:00',\n",
              "    'airtime': '21:00',\n",
              "    'id': 144328,\n",
              "    'image': {'medium': 'http://static.tvmaze.com/uploads/images/medium_landscape/10/25989.jpg',\n",
              "     'original': 'http://static.tvmaze.com/uploads/images/original_untouched/10/25989.jpg'},\n",
              "    'name': 'The House of Black and White',\n",
              "    'number': 2,\n",
              "    'runtime': 60,\n",
              "    'season': 5,\n",
              "    'summary': \"<p>Arya arrives in Braavos; Brienne and Podrick find danger while traveling; Cersei worries about Myrcella in Dorne when Ellaria Sand seeks revenge for Oberyn's death; Jon is tempted by Stannis.</p>\",\n",
              "    'url': 'http://www.tvmaze.com/episodes/144328/game-of-thrones-5x02-the-house-of-black-and-white'},\n",
              "   {'_links': {'self': {'href': 'http://api.tvmaze.com/episodes/144329'}},\n",
              "    'airdate': '2015-04-26',\n",
              "    'airstamp': '2015-04-27T01:00:00+00:00',\n",
              "    'airtime': '21:00',\n",
              "    'id': 144329,\n",
              "    'image': {'medium': 'http://static.tvmaze.com/uploads/images/medium_landscape/10/25990.jpg',\n",
              "     'original': 'http://static.tvmaze.com/uploads/images/original_untouched/10/25990.jpg'},\n",
              "    'name': 'High Sparrow',\n",
              "    'number': 3,\n",
              "    'runtime': 60,\n",
              "    'season': 5,\n",
              "    'summary': \"<p>Cersei meets the High Sparrow after learning of a clergyman's embarrassing tale. Meanwhile, Davos talks to Jon about the future of Winterfell, where Ramsay Snow has just learned the identity of his future bride; Arya grows impatient doing menial tasks in the House of Black and White; and Tyrion searches for more comfortable surroundings on a long trip with Varys.</p>\",\n",
              "    'url': 'http://www.tvmaze.com/episodes/144329/game-of-thrones-5x03-high-sparrow'},\n",
              "   {'_links': {'self': {'href': 'http://api.tvmaze.com/episodes/144330'}},\n",
              "    'airdate': '2015-05-03',\n",
              "    'airstamp': '2015-05-04T01:00:00+00:00',\n",
              "    'airtime': '21:00',\n",
              "    'id': 144330,\n",
              "    'image': {'medium': 'http://static.tvmaze.com/uploads/images/medium_landscape/10/26444.jpg',\n",
              "     'original': 'http://static.tvmaze.com/uploads/images/original_untouched/10/26444.jpg'},\n",
              "    'name': 'Sons of the Harpy',\n",
              "    'number': 4,\n",
              "    'runtime': 60,\n",
              "    'season': 5,\n",
              "    'summary': \"<p>Margaery seeks prudent counsel. Jaime Struggles in foreign lands. Dany answers the Harpy's call.</p>\",\n",
              "    'url': 'http://www.tvmaze.com/episodes/144330/game-of-thrones-5x04-sons-of-the-harpy'},\n",
              "   {'_links': {'self': {'href': 'http://api.tvmaze.com/episodes/151777'}},\n",
              "    'airdate': '2015-05-10',\n",
              "    'airstamp': '2015-05-11T01:00:00+00:00',\n",
              "    'airtime': '21:00',\n",
              "    'id': 151777,\n",
              "    'image': {'medium': 'http://static.tvmaze.com/uploads/images/medium_landscape/10/26819.jpg',\n",
              "     'original': 'http://static.tvmaze.com/uploads/images/original_untouched/10/26819.jpg'},\n",
              "    'name': 'Kill the Boy',\n",
              "    'number': 5,\n",
              "    'runtime': 60,\n",
              "    'season': 5,\n",
              "    'summary': \"<p>Dany makes a difficult decision in Meereen. Jon recruits the help of an unexpected ally. Brienne searches for Sansa. Theon remains under Ramsay's control.</p>\",\n",
              "    'url': 'http://www.tvmaze.com/episodes/151777/game-of-thrones-5x05-kill-the-boy'},\n",
              "   {'_links': {'self': {'href': 'http://api.tvmaze.com/episodes/152766'}},\n",
              "    'airdate': '2015-05-17',\n",
              "    'airstamp': '2015-05-18T01:00:00+00:00',\n",
              "    'airtime': '21:00',\n",
              "    'id': 152766,\n",
              "    'image': {'medium': 'http://static.tvmaze.com/uploads/images/medium_landscape/10/27259.jpg',\n",
              "     'original': 'http://static.tvmaze.com/uploads/images/original_untouched/10/27259.jpg'},\n",
              "    'name': 'Unbowed, Unbent, Unbroken',\n",
              "    'number': 6,\n",
              "    'runtime': 60,\n",
              "    'season': 5,\n",
              "    'summary': '<p>Arya trains. Jorah and Tyrion run into slavers. Trystane and Myrcella make plans. Jaime and Bronn reach their destination. The Sand Snakes attack.</p>',\n",
              "    'url': 'http://www.tvmaze.com/episodes/152766/game-of-thrones-5x06-unbowed-unbent-unbroken'},\n",
              "   {'_links': {'self': {'href': 'http://api.tvmaze.com/episodes/153327'}},\n",
              "    'airdate': '2015-05-24',\n",
              "    'airstamp': '2015-05-25T01:00:00+00:00',\n",
              "    'airtime': '21:00',\n",
              "    'id': 153327,\n",
              "    'image': {'medium': 'http://static.tvmaze.com/uploads/images/medium_landscape/11/27535.jpg',\n",
              "     'original': 'http://static.tvmaze.com/uploads/images/original_untouched/11/27535.jpg'},\n",
              "    'name': 'The Gift',\n",
              "    'number': 7,\n",
              "    'runtime': 60,\n",
              "    'season': 5,\n",
              "    'summary': '<p>Jon prepares for conflict. Sansa tries to talk to Theon. Brienne waits for a sign. Stannis remains stubborn. Jaime attempts to reconnect with family.</p><p><br><br></p>',\n",
              "    'url': 'http://www.tvmaze.com/episodes/153327/game-of-thrones-5x07-the-gift'},\n",
              "   {'_links': {'self': {'href': 'http://api.tvmaze.com/episodes/155299'}},\n",
              "    'airdate': '2015-05-31',\n",
              "    'airstamp': '2015-06-01T01:00:00+00:00',\n",
              "    'airtime': '21:00',\n",
              "    'id': 155299,\n",
              "    'image': {'medium': 'http://static.tvmaze.com/uploads/images/medium_landscape/11/28151.jpg',\n",
              "     'original': 'http://static.tvmaze.com/uploads/images/original_untouched/11/28151.jpg'},\n",
              "    'name': 'Hardhome',\n",
              "    'number': 8,\n",
              "    'runtime': 60,\n",
              "    'season': 5,\n",
              "    'summary': '<p>Arya makes progress in her training. Sansa confronts an old friend. Cersei struggles. Jon travels.</p><p><br><br></p>',\n",
              "    'url': 'http://www.tvmaze.com/episodes/155299/game-of-thrones-5x08-hardhome'},\n",
              "   {'_links': {'self': {'href': 'http://api.tvmaze.com/episodes/160040'}},\n",
              "    'airdate': '2015-06-07',\n",
              "    'airstamp': '2015-06-08T01:00:00+00:00',\n",
              "    'airtime': '21:00',\n",
              "    'id': 160040,\n",
              "    'image': {'medium': 'http://static.tvmaze.com/uploads/images/medium_landscape/11/29160.jpg',\n",
              "     'original': 'http://static.tvmaze.com/uploads/images/original_untouched/11/29160.jpg'},\n",
              "    'name': 'The Dance of Dragons',\n",
              "    'number': 9,\n",
              "    'runtime': 60,\n",
              "    'season': 5,\n",
              "    'summary': '<p>Stannis confronts a troubling decision. Jon returns to The Wall. Mace visits the Iron Bank. Arya encounters someone from her past. Dany reluctantly oversees a traditional celebration of athleticism.</p>',\n",
              "    'url': 'http://www.tvmaze.com/episodes/160040/game-of-thrones-5x09-the-dance-of-dragons'},\n",
              "   {'_links': {'self': {'href': 'http://api.tvmaze.com/episodes/162186'}},\n",
              "    'airdate': '2015-06-14',\n",
              "    'airstamp': '2015-06-15T01:00:00+00:00',\n",
              "    'airtime': '21:00',\n",
              "    'id': 162186,\n",
              "    'image': {'medium': 'http://static.tvmaze.com/uploads/images/medium_landscape/12/30012.jpg',\n",
              "     'original': 'http://static.tvmaze.com/uploads/images/original_untouched/12/30012.jpg'},\n",
              "    'name': \"Mother's Mercy\",\n",
              "    'number': 10,\n",
              "    'runtime': 60,\n",
              "    'season': 5,\n",
              "    'summary': '<p>Cersei seeks forgiveness; Jon faces a new challenge; Arya plots to cross a name off her list; Tyrion sees a familiar face; and Daenerys finds herself surrounded by strangers.</p>',\n",
              "    'url': 'http://www.tvmaze.com/episodes/162186/game-of-thrones-5x10-mothers-mercy'},\n",
              "   {'_links': {'self': {'href': 'http://api.tvmaze.com/episodes/560813'}},\n",
              "    'airdate': '2016-04-24',\n",
              "    'airstamp': '2016-04-25T01:00:00+00:00',\n",
              "    'airtime': '21:00',\n",
              "    'id': 560813,\n",
              "    'image': {'medium': 'http://static.tvmaze.com/uploads/images/medium_landscape/56/142371.jpg',\n",
              "     'original': 'http://static.tvmaze.com/uploads/images/original_untouched/56/142371.jpg'},\n",
              "    'name': 'The Red Woman',\n",
              "    'number': 1,\n",
              "    'runtime': 60,\n",
              "    'season': 6,\n",
              "    'summary': '<p>Jon Snow is dead. Daenerys meets a strong man. Cersei sees her daughter again.</p>',\n",
              "    'url': 'http://www.tvmaze.com/episodes/560813/game-of-thrones-6x01-the-red-woman'},\n",
              "   {'_links': {'self': {'href': 'http://api.tvmaze.com/episodes/664672'}},\n",
              "    'airdate': '2016-05-01',\n",
              "    'airstamp': '2016-05-02T01:00:00+00:00',\n",
              "    'airtime': '21:00',\n",
              "    'id': 664672,\n",
              "    'image': {'medium': 'http://static.tvmaze.com/uploads/images/medium_landscape/56/142372.jpg',\n",
              "     'original': 'http://static.tvmaze.com/uploads/images/original_untouched/56/142372.jpg'},\n",
              "    'name': 'Home',\n",
              "    'number': 2,\n",
              "    'runtime': 60,\n",
              "    'season': 6,\n",
              "    'summary': \"<p>Bran trains with the Three-Eyed Raven. In King's Landing, Jaime advises Tommen. Tyrion demands good news, but has to make his own. At Castle Black, the Night's Watch stands behind Thorne. Ramsay Bolton proposes a plan, and Balon Greyjoy entertains other proposals.</p>\",\n",
              "    'url': 'http://www.tvmaze.com/episodes/664672/game-of-thrones-6x02-home'},\n",
              "   {'_links': {'self': {'href': 'http://api.tvmaze.com/episodes/664673'}},\n",
              "    'airdate': '2016-05-08',\n",
              "    'airstamp': '2016-05-09T01:00:00+00:00',\n",
              "    'airtime': '21:00',\n",
              "    'id': 664673,\n",
              "    'image': {'medium': 'http://static.tvmaze.com/uploads/images/medium_landscape/56/142370.jpg',\n",
              "     'original': 'http://static.tvmaze.com/uploads/images/original_untouched/56/142370.jpg'},\n",
              "    'name': 'Oathbreaker',\n",
              "    'number': 3,\n",
              "    'runtime': 60,\n",
              "    'season': 6,\n",
              "    'summary': '<p>Daenerys meets her future. Bran meets the past. Tommen confronts the High Sparrow. Arya trains to be No One. Varys finds an answer. Ramsay gets a gift.</p>',\n",
              "    'url': 'http://www.tvmaze.com/episodes/664673/game-of-thrones-6x03-oathbreaker'},\n",
              "   {'_links': {'self': {'href': 'http://api.tvmaze.com/episodes/664674'}},\n",
              "    'airdate': '2016-05-15',\n",
              "    'airstamp': '2016-05-16T01:00:00+00:00',\n",
              "    'airtime': '21:00',\n",
              "    'id': 664674,\n",
              "    'image': {'medium': 'http://static.tvmaze.com/uploads/images/medium_landscape/56/142273.jpg',\n",
              "     'original': 'http://static.tvmaze.com/uploads/images/original_untouched/56/142273.jpg'},\n",
              "    'name': 'Book of the Stranger',\n",
              "    'number': 4,\n",
              "    'runtime': 60,\n",
              "    'season': 6,\n",
              "    'summary': '<p>Tyrion strikes a deal. Jorah and Daario undertake a difficult task. Jaime and Cersei try to improve their situation.</p>',\n",
              "    'url': 'http://www.tvmaze.com/episodes/664674/game-of-thrones-6x04-book-of-the-stranger'},\n",
              "   {'_links': {'self': {'href': 'http://api.tvmaze.com/episodes/664675'}},\n",
              "    'airdate': '2016-05-22',\n",
              "    'airstamp': '2016-05-23T01:00:00+00:00',\n",
              "    'airtime': '21:00',\n",
              "    'id': 664675,\n",
              "    'image': {'medium': 'http://static.tvmaze.com/uploads/images/medium_landscape/60/150273.jpg',\n",
              "     'original': 'http://static.tvmaze.com/uploads/images/original_untouched/60/150273.jpg'},\n",
              "    'name': 'The Door',\n",
              "    'number': 5,\n",
              "    'runtime': 60,\n",
              "    'season': 6,\n",
              "    'summary': '<p>Tyrion seeks a strange ally. Bran learns a great deal. Brienne goes on a mission. Arya is given a chance to prove herself.</p>',\n",
              "    'url': 'http://www.tvmaze.com/episodes/664675/game-of-thrones-6x05-the-door'},\n",
              "   {'_links': {'self': {'href': 'http://api.tvmaze.com/episodes/664676'}},\n",
              "    'airdate': '2016-05-29',\n",
              "    'airstamp': '2016-05-30T01:00:00+00:00',\n",
              "    'airtime': '21:00',\n",
              "    'id': 664676,\n",
              "    'image': {'medium': 'http://static.tvmaze.com/uploads/images/medium_landscape/60/150274.jpg',\n",
              "     'original': 'http://static.tvmaze.com/uploads/images/original_untouched/60/150274.jpg'},\n",
              "    'name': 'Blood of My Blood',\n",
              "    'number': 6,\n",
              "    'runtime': 60,\n",
              "    'season': 6,\n",
              "    'summary': \"<p>An old foe comes back into the picture. Gilly meets Sam's family. Arya faces a difficult choice. Jaime faces off against the High Sparrow.</p>\",\n",
              "    'url': 'http://www.tvmaze.com/episodes/664676/game-of-thrones-6x06-blood-of-my-blood'},\n",
              "   {'_links': {'self': {'href': 'http://api.tvmaze.com/episodes/717449'}},\n",
              "    'airdate': '2016-06-05',\n",
              "    'airstamp': '2016-06-06T01:00:00+00:00',\n",
              "    'airtime': '21:00',\n",
              "    'id': 717449,\n",
              "    'image': {'medium': 'http://static.tvmaze.com/uploads/images/medium_landscape/60/150275.jpg',\n",
              "     'original': 'http://static.tvmaze.com/uploads/images/original_untouched/60/150275.jpg'},\n",
              "    'name': 'The Broken Man',\n",
              "    'number': 7,\n",
              "    'runtime': 60,\n",
              "    'season': 6,\n",
              "    'summary': '<p>The High Sparrow eyes another target. Jaime confronts a hero. Arya makes a plan. The North is reminded.</p>',\n",
              "    'url': 'http://www.tvmaze.com/episodes/717449/game-of-thrones-6x07-the-broken-man'},\n",
              "   {'_links': {'self': {'href': 'http://api.tvmaze.com/episodes/729573'}},\n",
              "    'airdate': '2016-06-12',\n",
              "    'airstamp': '2016-06-13T01:00:00+00:00',\n",
              "    'airtime': '21:00',\n",
              "    'id': 729573,\n",
              "    'image': {'medium': 'http://static.tvmaze.com/uploads/images/medium_landscape/61/153044.jpg',\n",
              "     'original': 'http://static.tvmaze.com/uploads/images/original_untouched/61/153044.jpg'},\n",
              "    'name': 'No One',\n",
              "    'number': 8,\n",
              "    'runtime': 60,\n",
              "    'season': 6,\n",
              "    'summary': \"<p>Jaime encounters a hero; the High Sparrow fixates on another prey; Arya hatches a new plan; Yara and Theon plot their next move; Olenna and Cersei discuss their families' futures.</p><p></p><p>While Jaime weighs his options, Cersei answers a request. Tyrion's plans bear fruit. Arya faces a new test.</p>\",\n",
              "    'url': 'http://www.tvmaze.com/episodes/729573/game-of-thrones-6x08-no-one'},\n",
              "   {'_links': {'self': {'href': 'http://api.tvmaze.com/episodes/729574'}},\n",
              "    'airdate': '2016-06-19',\n",
              "    'airstamp': '2016-06-20T01:00:00+00:00',\n",
              "    'airtime': '21:00',\n",
              "    'id': 729574,\n",
              "    'image': {'medium': 'http://static.tvmaze.com/uploads/images/medium_landscape/62/155042.jpg',\n",
              "     'original': 'http://static.tvmaze.com/uploads/images/original_untouched/62/155042.jpg'},\n",
              "    'name': 'Battle of the Bastards',\n",
              "    'number': 9,\n",
              "    'runtime': 60,\n",
              "    'season': 6,\n",
              "    'summary': '<p>Ramsay surprises his audience. Jon retaliates. Dany is true to her word.</p>',\n",
              "    'url': 'http://www.tvmaze.com/episodes/729574/game-of-thrones-6x09-battle-of-the-bastards'},\n",
              "   {'_links': {'self': {'href': 'http://api.tvmaze.com/episodes/729575'}},\n",
              "    'airdate': '2016-06-26',\n",
              "    'airstamp': '2016-06-27T01:00:00+00:00',\n",
              "    'airtime': '21:00',\n",
              "    'id': 729575,\n",
              "    'image': {'medium': 'http://static.tvmaze.com/uploads/images/medium_landscape/63/157920.jpg',\n",
              "     'original': 'http://static.tvmaze.com/uploads/images/original_untouched/63/157920.jpg'},\n",
              "    'name': 'The Winds of Winter',\n",
              "    'number': 10,\n",
              "    'runtime': 69,\n",
              "    'season': 6,\n",
              "    'summary': \"<p>Alliances are made, the High Sparrow is holding trials at King's Landing, Daenerys is sailing for the Seven Kingdoms and a new King of the North is crowned.</p>\",\n",
              "    'url': 'http://www.tvmaze.com/episodes/729575/game-of-thrones-6x10-the-winds-of-winter'},\n",
              "   {'_links': {'self': {'href': 'http://api.tvmaze.com/episodes/937256'}},\n",
              "    'airdate': '2017-07-16',\n",
              "    'airstamp': '2017-07-17T01:00:00+00:00',\n",
              "    'airtime': '21:00',\n",
              "    'id': 937256,\n",
              "    'image': {'medium': 'http://static.tvmaze.com/uploads/images/medium_landscape/120/302038.jpg',\n",
              "     'original': 'http://static.tvmaze.com/uploads/images/original_untouched/120/302038.jpg'},\n",
              "    'name': 'Dragonstone',\n",
              "    'number': 1,\n",
              "    'runtime': 60,\n",
              "    'season': 7,\n",
              "    'summary': '<p>Jon organizes the defense of the North. Cersei tries to even the odds. Daenerys comes home.</p>',\n",
              "    'url': 'http://www.tvmaze.com/episodes/937256/game-of-thrones-7x01-dragonstone'},\n",
              "   {'_links': {'self': {'href': 'http://api.tvmaze.com/episodes/1221410'}},\n",
              "    'airdate': '2017-07-23',\n",
              "    'airstamp': '2017-07-24T01:00:00+00:00',\n",
              "    'airtime': '21:00',\n",
              "    'id': 1221410,\n",
              "    'image': {'medium': 'http://static.tvmaze.com/uploads/images/medium_landscape/120/302047.jpg',\n",
              "     'original': 'http://static.tvmaze.com/uploads/images/original_untouched/120/302047.jpg'},\n",
              "    'name': 'Stormborn',\n",
              "    'number': 2,\n",
              "    'runtime': 60,\n",
              "    'season': 7,\n",
              "    'summary': '<p>Daenerys receives an unexpected visitor. Jon faces a revolt. Tyrion plans the conquest of Westeros.</p>',\n",
              "    'url': 'http://www.tvmaze.com/episodes/1221410/game-of-thrones-7x02-stormborn'},\n",
              "   {'_links': {'self': {'href': 'http://api.tvmaze.com/episodes/1221411'}},\n",
              "    'airdate': '2017-07-30',\n",
              "    'airstamp': '2017-07-31T01:00:00+00:00',\n",
              "    'airtime': '21:00',\n",
              "    'id': 1221411,\n",
              "    'image': {'medium': 'http://static.tvmaze.com/uploads/images/medium_landscape/122/306938.jpg',\n",
              "     'original': 'http://static.tvmaze.com/uploads/images/original_untouched/122/306938.jpg'},\n",
              "    'name': \"The Queen's Justice\",\n",
              "    'number': 3,\n",
              "    'runtime': 60,\n",
              "    'season': 7,\n",
              "    'summary': '<p>Daenerys holds court. Cersei returns a gift. Jaime learns from his mistakes.</p>',\n",
              "    'url': 'http://www.tvmaze.com/episodes/1221411/game-of-thrones-7x03-the-queens-justice'},\n",
              "   {'_links': {'self': {'href': 'http://api.tvmaze.com/episodes/1221412'}},\n",
              "    'airdate': '2017-08-06',\n",
              "    'airstamp': '2017-08-07T01:00:00+00:00',\n",
              "    'airtime': '21:00',\n",
              "    'id': 1221412,\n",
              "    'image': {'medium': 'http://static.tvmaze.com/uploads/images/medium_landscape/123/307677.jpg',\n",
              "     'original': 'http://static.tvmaze.com/uploads/images/original_untouched/123/307677.jpg'},\n",
              "    'name': 'The Spoils of War',\n",
              "    'number': 4,\n",
              "    'runtime': 60,\n",
              "    'season': 7,\n",
              "    'summary': '<p>Arya gets to the final destination. Daenerys takes it upon herself to strike back.</p>',\n",
              "    'url': 'http://www.tvmaze.com/episodes/1221412/game-of-thrones-7x04-the-spoils-of-war'},\n",
              "   {'_links': {'self': {'href': 'http://api.tvmaze.com/episodes/1221413'}},\n",
              "    'airdate': '2017-08-13',\n",
              "    'airstamp': '2017-08-14T01:00:00+00:00',\n",
              "    'airtime': '21:00',\n",
              "    'id': 1221413,\n",
              "    'image': {'medium': 'http://static.tvmaze.com/uploads/images/medium_landscape/124/310839.jpg',\n",
              "     'original': 'http://static.tvmaze.com/uploads/images/original_untouched/124/310839.jpg'},\n",
              "    'name': 'Eastwatch',\n",
              "    'number': 5,\n",
              "    'runtime': 60,\n",
              "    'season': 7,\n",
              "    'summary': \"<p>Daenerys demands loyalty from the surviving Lannister soldiers; Jon heeds Bran's warning about White Walkers on the move; Cersei vows to vanquish anyone or anything that stands in her way.</p>\",\n",
              "    'url': 'http://www.tvmaze.com/episodes/1221413/game-of-thrones-7x05-eastwatch'},\n",
              "   {'_links': {'self': {'href': 'http://api.tvmaze.com/episodes/1221414'}},\n",
              "    'airdate': '2017-08-20',\n",
              "    'airstamp': '2017-08-21T01:00:00+00:00',\n",
              "    'airtime': '21:00',\n",
              "    'id': 1221414,\n",
              "    'image': {'medium': 'http://static.tvmaze.com/uploads/images/medium_landscape/125/312651.jpg',\n",
              "     'original': 'http://static.tvmaze.com/uploads/images/original_untouched/125/312651.jpg'},\n",
              "    'name': 'Beyond the Wall',\n",
              "    'number': 6,\n",
              "    'runtime': 60,\n",
              "    'season': 7,\n",
              "    'summary': \"<p>Jon's mission continues north of the wall, but the odds against his ragged band of misfits may be greater than he imagined.</p>\",\n",
              "    'url': 'http://www.tvmaze.com/episodes/1221414/game-of-thrones-7x06-beyond-the-wall'},\n",
              "   {'_links': {'self': {'href': 'http://api.tvmaze.com/episodes/1221415'}},\n",
              "    'airdate': '2017-08-27',\n",
              "    'airstamp': '2017-08-28T01:00:00+00:00',\n",
              "    'airtime': '21:00',\n",
              "    'id': 1221415,\n",
              "    'image': {'medium': 'http://static.tvmaze.com/uploads/images/medium_landscape/125/314502.jpg',\n",
              "     'original': 'http://static.tvmaze.com/uploads/images/original_untouched/125/314502.jpg'},\n",
              "    'name': 'The Dragon and the Wolf',\n",
              "    'number': 7,\n",
              "    'runtime': 60,\n",
              "    'season': 7,\n",
              "    'summary': '<p>Cersei sits on the Iron Throne; Daenerys sails across the Narrow Sea; Jon Snow is King in the North, and winter is finally here.</p>',\n",
              "    'url': 'http://www.tvmaze.com/episodes/1221415/game-of-thrones-7x07-the-dragon-and-the-wolf'}]},\n",
              " '_links': {'previousepisode': {'href': 'http://api.tvmaze.com/episodes/1221415'},\n",
              "  'self': {'href': 'http://api.tvmaze.com/shows/82'}},\n",
              " 'externals': {'imdb': 'tt0944947', 'thetvdb': 121361, 'tvrage': 24493},\n",
              " 'genres': ['Drama', 'Adventure', 'Fantasy'],\n",
              " 'id': 82,\n",
              " 'image': {'medium': 'http://static.tvmaze.com/uploads/images/medium_portrait/143/359013.jpg',\n",
              "  'original': 'http://static.tvmaze.com/uploads/images/original_untouched/143/359013.jpg'},\n",
              " 'language': 'English',\n",
              " 'name': 'Game of Thrones',\n",
              " 'network': {'country': {'code': 'US',\n",
              "   'name': 'United States',\n",
              "   'timezone': 'America/New_York'},\n",
              "  'id': 8,\n",
              "  'name': 'HBO'},\n",
              " 'officialSite': 'http://www.hbo.com/game-of-thrones',\n",
              " 'premiered': '2011-04-17',\n",
              " 'rating': {'average': 9.3},\n",
              " 'runtime': 60,\n",
              " 'schedule': {'days': ['Sunday'], 'time': '21:00'},\n",
              " 'status': 'Running',\n",
              " 'summary': '<p>Based on the bestselling book series <i>A Song of Ice and Fire</i> by George R.R. Martin, this sprawling new HBO drama is set in a world where summers span decades and winters can last a lifetime. From the scheming south and the savage eastern lands, to the frozen north and ancient Wall that protects the realm from the mysterious darkness beyond, the powerful families of the Seven Kingdoms are locked in a battle for the Iron Throne. This is a story of duplicity and treachery, nobility and honor, conquest and triumph. In the <b>Game of Thrones</b>, you either win or you die.</p>',\n",
              " 'type': 'Scripted',\n",
              " 'updated': 1519923089,\n",
              " 'url': 'http://www.tvmaze.com/shows/82/game-of-thrones',\n",
              " 'webChannel': {'country': {'code': 'US',\n",
              "   'name': 'United States',\n",
              "   'timezone': 'America/New_York'},\n",
              "  'id': 22,\n",
              "  'name': 'HBO Go'},\n",
              " 'weight': 99}"
            ]
          },
          "metadata": {
            "tags": []
          },
          "execution_count": 33
        }
      ]
    },
    {
      "cell_type": "code",
      "metadata": {
        "id": "mM5apRoqqGPx",
        "colab_type": "code",
        "outputId": "02326bc5-a1fb-40cf-a448-4e27b2e2b324",
        "colab": {
          "base_uri": "https://localhost:8080/",
          "height": 54
        }
      },
      "source": [
        "print (data.keys())"
      ],
      "execution_count": 0,
      "outputs": [
        {
          "output_type": "stream",
          "text": [
            "dict_keys(['id', 'url', 'name', 'type', 'language', 'genres', 'status', 'runtime', 'premiered', 'officialSite', 'schedule', 'rating', 'weight', 'network', 'webChannel', 'externals', 'image', 'summary', 'updated', '_links', '_embedded'])\n"
          ],
          "name": "stdout"
        }
      ]
    },
    {
      "cell_type": "code",
      "metadata": {
        "id": "8Eub6GDLqGQB",
        "colab_type": "code",
        "outputId": "915f0c92-6ef7-43b3-dc1b-ca6faaa042bd",
        "colab": {
          "base_uri": "https://localhost:8080/",
          "height": 34
        }
      },
      "source": [
        "print (len(data['_embedded']['episodes']))"
      ],
      "execution_count": 0,
      "outputs": [
        {
          "output_type": "stream",
          "text": [
            "67\n"
          ],
          "name": "stdout"
        }
      ]
    },
    {
      "cell_type": "code",
      "metadata": {
        "id": "pCE79PuxqGQJ",
        "colab_type": "code",
        "outputId": "7dbd7775-52a6-4b55-8a7c-5518be4072ee",
        "colab": {
          "base_uri": "https://localhost:8080/",
          "height": 1000
        }
      },
      "source": [
        "pprint(data['_embedded']['episodes'][-5:])"
      ],
      "execution_count": 0,
      "outputs": [
        {
          "output_type": "stream",
          "text": [
            "[{'_links': {'self': {'href': 'http://api.tvmaze.com/episodes/1221411'}},\n",
            "  'airdate': '2017-07-30',\n",
            "  'airstamp': '2017-07-31T01:00:00+00:00',\n",
            "  'airtime': '21:00',\n",
            "  'id': 1221411,\n",
            "  'image': {'medium': 'http://static.tvmaze.com/uploads/images/medium_landscape/122/306938.jpg',\n",
            "            'original': 'http://static.tvmaze.com/uploads/images/original_untouched/122/306938.jpg'},\n",
            "  'name': \"The Queen's Justice\",\n",
            "  'number': 3,\n",
            "  'runtime': 60,\n",
            "  'season': 7,\n",
            "  'summary': '<p>Daenerys holds court. Cersei returns a gift. Jaime learns '\n",
            "             'from his mistakes.</p>',\n",
            "  'url': 'http://www.tvmaze.com/episodes/1221411/game-of-thrones-7x03-the-queens-justice'},\n",
            " {'_links': {'self': {'href': 'http://api.tvmaze.com/episodes/1221412'}},\n",
            "  'airdate': '2017-08-06',\n",
            "  'airstamp': '2017-08-07T01:00:00+00:00',\n",
            "  'airtime': '21:00',\n",
            "  'id': 1221412,\n",
            "  'image': {'medium': 'http://static.tvmaze.com/uploads/images/medium_landscape/123/307677.jpg',\n",
            "            'original': 'http://static.tvmaze.com/uploads/images/original_untouched/123/307677.jpg'},\n",
            "  'name': 'The Spoils of War',\n",
            "  'number': 4,\n",
            "  'runtime': 60,\n",
            "  'season': 7,\n",
            "  'summary': '<p>Arya gets to the final destination. Daenerys takes it upon '\n",
            "             'herself to strike back.</p>',\n",
            "  'url': 'http://www.tvmaze.com/episodes/1221412/game-of-thrones-7x04-the-spoils-of-war'},\n",
            " {'_links': {'self': {'href': 'http://api.tvmaze.com/episodes/1221413'}},\n",
            "  'airdate': '2017-08-13',\n",
            "  'airstamp': '2017-08-14T01:00:00+00:00',\n",
            "  'airtime': '21:00',\n",
            "  'id': 1221413,\n",
            "  'image': {'medium': 'http://static.tvmaze.com/uploads/images/medium_landscape/124/310839.jpg',\n",
            "            'original': 'http://static.tvmaze.com/uploads/images/original_untouched/124/310839.jpg'},\n",
            "  'name': 'Eastwatch',\n",
            "  'number': 5,\n",
            "  'runtime': 60,\n",
            "  'season': 7,\n",
            "  'summary': '<p>Daenerys demands loyalty from the surviving Lannister '\n",
            "             \"soldiers; Jon heeds Bran's warning about White Walkers on the \"\n",
            "             'move; Cersei vows to vanquish anyone or anything that stands in '\n",
            "             'her way.</p>',\n",
            "  'url': 'http://www.tvmaze.com/episodes/1221413/game-of-thrones-7x05-eastwatch'},\n",
            " {'_links': {'self': {'href': 'http://api.tvmaze.com/episodes/1221414'}},\n",
            "  'airdate': '2017-08-20',\n",
            "  'airstamp': '2017-08-21T01:00:00+00:00',\n",
            "  'airtime': '21:00',\n",
            "  'id': 1221414,\n",
            "  'image': {'medium': 'http://static.tvmaze.com/uploads/images/medium_landscape/125/312651.jpg',\n",
            "            'original': 'http://static.tvmaze.com/uploads/images/original_untouched/125/312651.jpg'},\n",
            "  'name': 'Beyond the Wall',\n",
            "  'number': 6,\n",
            "  'runtime': 60,\n",
            "  'season': 7,\n",
            "  'summary': \"<p>Jon's mission continues north of the wall, but the odds \"\n",
            "             'against his ragged band of misfits may be greater than he '\n",
            "             'imagined.</p>',\n",
            "  'url': 'http://www.tvmaze.com/episodes/1221414/game-of-thrones-7x06-beyond-the-wall'},\n",
            " {'_links': {'self': {'href': 'http://api.tvmaze.com/episodes/1221415'}},\n",
            "  'airdate': '2017-08-27',\n",
            "  'airstamp': '2017-08-28T01:00:00+00:00',\n",
            "  'airtime': '21:00',\n",
            "  'id': 1221415,\n",
            "  'image': {'medium': 'http://static.tvmaze.com/uploads/images/medium_landscape/125/314502.jpg',\n",
            "            'original': 'http://static.tvmaze.com/uploads/images/original_untouched/125/314502.jpg'},\n",
            "  'name': 'The Dragon and the Wolf',\n",
            "  'number': 7,\n",
            "  'runtime': 60,\n",
            "  'season': 7,\n",
            "  'summary': '<p>Cersei sits on the Iron Throne; Daenerys sails across the '\n",
            "             'Narrow Sea; Jon Snow is King in the North, and winter is finally '\n",
            "             'here.</p>',\n",
            "  'url': 'http://www.tvmaze.com/episodes/1221415/game-of-thrones-7x07-the-dragon-and-the-wolf'}]\n"
          ],
          "name": "stdout"
        }
      ]
    },
    {
      "cell_type": "markdown",
      "metadata": {
        "id": "adRT4n52WOlN",
        "colab_type": "text"
      },
      "source": [
        "### Otro archivo..."
      ]
    },
    {
      "cell_type": "code",
      "metadata": {
        "id": "mjCFlKjO6qte",
        "colab_type": "code",
        "colab": {}
      },
      "source": [
        "file = drive.CreateFile({'id': '1nWpd9WBKy7tbJv8Q3K1YZHVU4174YSPv'})\n",
        "file.GetContentFile('iris.csv')"
      ],
      "execution_count": 0,
      "outputs": []
    },
    {
      "cell_type": "code",
      "metadata": {
        "id": "udh1BLjbqGQb",
        "colab_type": "code",
        "colab": {}
      },
      "source": [
        "import csv\n",
        "with open('iris.csv', 'r') as csvfile:\n",
        "    iris_data = csv.reader(csvfile, delimiter='|')\n",
        "    data = list(iris_data)"
      ],
      "execution_count": 0,
      "outputs": []
    },
    {
      "cell_type": "code",
      "metadata": {
        "id": "qmfhBUmwWa34",
        "colab_type": "code",
        "outputId": "650d690f-6e23-4e74-a338-292f0eb9cb67",
        "colab": {
          "base_uri": "https://localhost:8080/",
          "height": 1000
        }
      },
      "source": [
        "data"
      ],
      "execution_count": 0,
      "outputs": [
        {
          "output_type": "execute_result",
          "data": {
            "text/plain": [
              "[['sepal_length,sepal_width,petal_length,petal_width,label'],\n",
              " ['5.1,3.5,1.4,0.2,Iris-setosa'],\n",
              " ['4.9,3.0,1.4,0.2,Iris-setosa'],\n",
              " ['4.7,3.2,1.3,0.2,Iris-setosa'],\n",
              " ['4.6,3.1,1.5,0.2,Iris-setosa'],\n",
              " ['5.0,3.6,1.4,0.2,Iris-setosa'],\n",
              " ['5.4,3.9,1.7,0.4,Iris-setosa'],\n",
              " ['4.6,3.4,1.4,0.3,Iris-setosa'],\n",
              " ['5.0,3.4,1.5,0.2,Iris-setosa'],\n",
              " ['4.4,2.9,1.4,0.2,Iris-setosa'],\n",
              " ['4.9,3.1,1.5,0.1,Iris-setosa'],\n",
              " ['5.4,3.7,1.5,0.2,Iris-setosa'],\n",
              " ['4.8,3.4,1.6,0.2,Iris-setosa'],\n",
              " ['4.8,3.0,1.4,0.1,Iris-setosa'],\n",
              " ['4.3,3.0,1.1,0.1,Iris-setosa'],\n",
              " ['5.8,4.0,1.2,0.2,Iris-setosa'],\n",
              " ['5.7,4.4,1.5,0.4,Iris-setosa'],\n",
              " ['5.4,3.9,1.3,0.4,Iris-setosa'],\n",
              " ['5.1,3.5,1.4,0.3,Iris-setosa'],\n",
              " ['5.7,3.8,1.7,0.3,Iris-setosa'],\n",
              " ['5.1,3.8,1.5,0.3,Iris-setosa'],\n",
              " ['5.4,3.4,1.7,0.2,Iris-setosa'],\n",
              " ['5.1,3.7,1.5,0.4,Iris-setosa'],\n",
              " ['4.6,3.6,1.0,0.2,Iris-setosa'],\n",
              " ['5.1,3.3,1.7,0.5,Iris-setosa'],\n",
              " ['4.8,3.4,1.9,0.2,Iris-setosa'],\n",
              " ['5.0,3.0,1.6,0.2,Iris-setosa'],\n",
              " ['5.0,3.4,1.6,0.4,Iris-setosa'],\n",
              " ['5.2,3.5,1.5,0.2,Iris-setosa'],\n",
              " ['5.2,3.4,1.4,0.2,Iris-setosa'],\n",
              " ['4.7,3.2,1.6,0.2,Iris-setosa'],\n",
              " ['4.8,3.1,1.6,0.2,Iris-setosa'],\n",
              " ['5.4,3.4,1.5,0.4,Iris-setosa'],\n",
              " ['5.2,4.1,1.5,0.1,Iris-setosa'],\n",
              " ['5.5,4.2,1.4,0.2,Iris-setosa'],\n",
              " ['4.9,3.1,1.5,0.1,Iris-setosa'],\n",
              " ['5.0,3.2,1.2,0.2,Iris-setosa'],\n",
              " ['5.5,3.5,1.3,0.2,Iris-setosa'],\n",
              " ['4.9,3.1,1.5,0.1,Iris-setosa'],\n",
              " ['4.4,3.0,1.3,0.2,Iris-setosa'],\n",
              " ['5.1,3.4,1.5,0.2,Iris-setosa'],\n",
              " ['5.0,3.5,1.3,0.3,Iris-setosa'],\n",
              " ['4.5,2.3,1.3,0.3,Iris-setosa'],\n",
              " ['4.4,3.2,1.3,0.2,Iris-setosa'],\n",
              " ['5.0,3.5,1.6,0.6,Iris-setosa'],\n",
              " ['5.1,3.8,1.9,0.4,Iris-setosa'],\n",
              " ['4.8,3.0,1.4,0.3,Iris-setosa'],\n",
              " ['5.1,3.8,1.6,0.2,Iris-setosa'],\n",
              " ['4.6,3.2,1.4,0.2,Iris-setosa'],\n",
              " ['5.3,3.7,1.5,0.2,Iris-setosa'],\n",
              " ['5.0,3.3,1.4,0.2,Iris-setosa'],\n",
              " ['7.0,3.2,4.7,1.4,Iris-versicolor'],\n",
              " ['6.4,3.2,4.5,1.5,Iris-versicolor'],\n",
              " ['6.9,3.1,4.9,1.5,Iris-versicolor'],\n",
              " ['5.5,2.3,4.0,1.3,Iris-versicolor'],\n",
              " ['6.5,2.8,4.6,1.5,Iris-versicolor'],\n",
              " ['5.7,2.8,4.5,1.3,Iris-versicolor'],\n",
              " ['6.3,3.3,4.7,1.6,Iris-versicolor'],\n",
              " ['4.9,2.4,3.3,1.0,Iris-versicolor'],\n",
              " ['6.6,2.9,4.6,1.3,Iris-versicolor'],\n",
              " ['5.2,2.7,3.9,1.4,Iris-versicolor'],\n",
              " ['5.0,2.0,3.5,1.0,Iris-versicolor'],\n",
              " ['5.9,3.0,4.2,1.5,Iris-versicolor'],\n",
              " ['6.0,2.2,4.0,1.0,Iris-versicolor'],\n",
              " ['6.1,2.9,4.7,1.4,Iris-versicolor'],\n",
              " ['5.6,2.9,3.6,1.3,Iris-versicolor'],\n",
              " ['6.7,3.1,4.4,1.4,Iris-versicolor'],\n",
              " ['5.6,3.0,4.5,1.5,Iris-versicolor'],\n",
              " ['5.8,2.7,4.1,1.0,Iris-versicolor'],\n",
              " ['6.2,2.2,4.5,1.5,Iris-versicolor'],\n",
              " ['5.6,2.5,3.9,1.1,Iris-versicolor'],\n",
              " ['5.9,3.2,4.8,1.8,Iris-versicolor'],\n",
              " ['6.1,2.8,4.0,1.3,Iris-versicolor'],\n",
              " ['6.3,2.5,4.9,1.5,Iris-versicolor'],\n",
              " ['6.1,2.8,4.7,1.2,Iris-versicolor'],\n",
              " ['6.4,2.9,4.3,1.3,Iris-versicolor'],\n",
              " ['6.6,3.0,4.4,1.4,Iris-versicolor'],\n",
              " ['6.8,2.8,4.8,1.4,Iris-versicolor'],\n",
              " ['6.7,3.0,5.0,1.7,Iris-versicolor'],\n",
              " ['6.0,2.9,4.5,1.5,Iris-versicolor'],\n",
              " ['5.7,2.6,3.5,1.0,Iris-versicolor'],\n",
              " ['5.5,2.4,3.8,1.1,Iris-versicolor'],\n",
              " ['5.5,2.4,3.7,1.0,Iris-versicolor'],\n",
              " ['5.8,2.7,3.9,1.2,Iris-versicolor'],\n",
              " ['6.0,2.7,5.1,1.6,Iris-versicolor'],\n",
              " ['5.4,3.0,4.5,1.5,Iris-versicolor'],\n",
              " ['6.0,3.4,4.5,1.6,Iris-versicolor'],\n",
              " ['6.7,3.1,4.7,1.5,Iris-versicolor'],\n",
              " ['6.3,2.3,4.4,1.3,Iris-versicolor'],\n",
              " ['5.6,3.0,4.1,1.3,Iris-versicolor'],\n",
              " ['5.5,2.5,4.0,1.3,Iris-versicolor'],\n",
              " ['5.5,2.6,4.4,1.2,Iris-versicolor'],\n",
              " ['6.1,3.0,4.6,1.4,Iris-versicolor'],\n",
              " ['5.8,2.6,4.0,1.2,Iris-versicolor'],\n",
              " ['5.0,2.3,3.3,1.0,Iris-versicolor'],\n",
              " ['5.6,2.7,4.2,1.3,Iris-versicolor'],\n",
              " ['5.7,3.0,4.2,1.2,Iris-versicolor'],\n",
              " ['5.7,2.9,4.2,1.3,Iris-versicolor'],\n",
              " ['6.2,2.9,4.3,1.3,Iris-versicolor'],\n",
              " ['5.1,2.5,3.0,1.1,Iris-versicolor'],\n",
              " ['5.7,2.8,4.1,1.3,Iris-versicolor'],\n",
              " ['6.3,3.3,6.0,2.5,Iris-virginica'],\n",
              " ['5.8,2.7,5.1,1.9,Iris-virginica'],\n",
              " ['7.1,3.0,5.9,2.1,Iris-virginica'],\n",
              " ['6.3,2.9,5.6,1.8,Iris-virginica'],\n",
              " ['6.5,3.0,5.8,2.2,Iris-virginica'],\n",
              " ['7.6,3.0,6.6,2.1,Iris-virginica'],\n",
              " ['4.9,2.5,4.5,1.7,Iris-virginica'],\n",
              " ['7.3,2.9,6.3,1.8,Iris-virginica'],\n",
              " ['6.7,2.5,5.8,1.8,Iris-virginica'],\n",
              " ['7.2,3.6,6.1,2.5,Iris-virginica'],\n",
              " ['6.5,3.2,5.1,2.0,Iris-virginica'],\n",
              " ['6.4,2.7,5.3,1.9,Iris-virginica'],\n",
              " ['6.8,3.0,5.5,2.1,Iris-virginica'],\n",
              " ['5.7,2.5,5.0,2.0,Iris-virginica'],\n",
              " ['5.8,2.8,5.1,2.4,Iris-virginica'],\n",
              " ['6.4,3.2,5.3,2.3,Iris-virginica'],\n",
              " ['6.5,3.0,5.5,1.8,Iris-virginica'],\n",
              " ['7.7,3.8,6.7,2.2,Iris-virginica'],\n",
              " ['7.7,2.6,6.9,2.3,Iris-virginica'],\n",
              " ['6.0,2.2,5.0,1.5,Iris-virginica'],\n",
              " ['6.9,3.2,5.7,2.3,Iris-virginica'],\n",
              " ['5.6,2.8,4.9,2.0,Iris-virginica'],\n",
              " ['7.7,2.8,6.7,2.0,Iris-virginica'],\n",
              " ['6.3,2.7,4.9,1.8,Iris-virginica'],\n",
              " ['6.7,3.3,5.7,2.1,Iris-virginica'],\n",
              " ['7.2,3.2,6.0,1.8,Iris-virginica'],\n",
              " ['6.2,2.8,4.8,1.8,Iris-virginica'],\n",
              " ['6.1,3.0,4.9,1.8,Iris-virginica'],\n",
              " ['6.4,2.8,5.6,2.1,Iris-virginica'],\n",
              " ['7.2,3.0,5.8,1.6,Iris-virginica'],\n",
              " ['7.4,2.8,6.1,1.9,Iris-virginica'],\n",
              " ['7.9,3.8,6.4,2.0,Iris-virginica'],\n",
              " ['6.4,2.8,5.6,2.2,Iris-virginica'],\n",
              " ['6.3,2.8,5.1,1.5,Iris-virginica'],\n",
              " ['6.1,2.6,5.6,1.4,Iris-virginica'],\n",
              " ['7.7,3.0,6.1,2.3,Iris-virginica'],\n",
              " ['6.3,3.4,5.6,2.4,Iris-virginica'],\n",
              " ['6.4,3.1,5.5,1.8,Iris-virginica'],\n",
              " ['6.0,3.0,4.8,1.8,Iris-virginica'],\n",
              " ['6.9,3.1,5.4,2.1,Iris-virginica'],\n",
              " ['6.7,3.1,5.6,2.4,Iris-virginica'],\n",
              " ['6.9,3.1,5.1,2.3,Iris-virginica'],\n",
              " ['5.8,2.7,5.1,1.9,Iris-virginica'],\n",
              " ['6.8,3.2,5.9,2.3,Iris-virginica'],\n",
              " ['6.7,3.3,5.7,2.5,Iris-virginica'],\n",
              " ['6.7,3.0,5.2,2.3,Iris-virginica'],\n",
              " ['6.3,2.5,5.0,1.9,Iris-virginica'],\n",
              " ['6.5,3.0,5.2,2.0,Iris-virginica'],\n",
              " ['6.2,3.4,5.4,2.3,Iris-virginica'],\n",
              " ['5.9,3.0,5.1,1.8,Iris-virginica'],\n",
              " []]"
            ]
          },
          "metadata": {
            "tags": []
          },
          "execution_count": 39
        }
      ]
    },
    {
      "cell_type": "markdown",
      "metadata": {
        "id": "OA6-dVwxOy_T",
        "colab_type": "text"
      },
      "source": [
        "## Diccionarios"
      ]
    },
    {
      "cell_type": "code",
      "metadata": {
        "id": "VijJfjI3lAPr",
        "colab_type": "code",
        "colab": {}
      },
      "source": [
        "dic = {'numeros':[2, 0, 1, 9], 'Universidad': 'UR'}"
      ],
      "execution_count": 0,
      "outputs": []
    },
    {
      "cell_type": "code",
      "metadata": {
        "id": "ZJ58lFySO7yk",
        "colab_type": "code",
        "outputId": "f9ee3ade-7ab7-4690-a079-870e0cb24f51",
        "colab": {
          "base_uri": "https://localhost:8080/",
          "height": 34
        }
      },
      "source": [
        "dic"
      ],
      "execution_count": 0,
      "outputs": [
        {
          "output_type": "execute_result",
          "data": {
            "text/plain": [
              "{'Universidad': 'UR', 'numeros': [2, 0, 1, 9]}"
            ]
          },
          "metadata": {
            "tags": []
          },
          "execution_count": 41
        }
      ]
    },
    {
      "cell_type": "code",
      "metadata": {
        "id": "cOrQ9DielAPn",
        "colab_type": "code",
        "outputId": "5414b1c2-2c74-4d9b-9542-d83bcdd2dd5b",
        "colab": {
          "base_uri": "https://localhost:8080/",
          "height": 34
        }
      },
      "source": [
        "dic['numeros']"
      ],
      "execution_count": 0,
      "outputs": [
        {
          "output_type": "execute_result",
          "data": {
            "text/plain": [
              "[2, 0, 1, 9]"
            ]
          },
          "metadata": {
            "tags": []
          },
          "execution_count": 42
        }
      ]
    },
    {
      "cell_type": "code",
      "metadata": {
        "id": "gOV8MikolAPp",
        "colab_type": "code",
        "outputId": "aecbf09c-eb63-4105-fb73-d2e7fe0f0713",
        "colab": {
          "base_uri": "https://localhost:8080/",
          "height": 34
        }
      },
      "source": [
        "dic['Universidad']"
      ],
      "execution_count": 0,
      "outputs": [
        {
          "output_type": "execute_result",
          "data": {
            "text/plain": [
              "'UR'"
            ]
          },
          "metadata": {
            "tags": []
          },
          "execution_count": 43
        }
      ]
    },
    {
      "cell_type": "markdown",
      "metadata": {
        "id": "Or6BoiCuQ8k1",
        "colab_type": "text"
      },
      "source": [
        "## Listas"
      ]
    },
    {
      "cell_type": "code",
      "metadata": {
        "id": "h_XXCa1GDcjC",
        "colab_type": "code",
        "outputId": "038b934b-b86a-4cb8-d6db-7319fceb6429",
        "colab": {
          "base_uri": "https://localhost:8080/",
          "height": 34
        }
      },
      "source": [
        "una_lista = ['a','b','c']\n",
        "una_lista"
      ],
      "execution_count": 0,
      "outputs": [
        {
          "output_type": "execute_result",
          "data": {
            "text/plain": [
              "['a', 'b', 'c']"
            ]
          },
          "metadata": {
            "tags": []
          },
          "execution_count": 44
        }
      ]
    },
    {
      "cell_type": "code",
      "metadata": {
        "id": "zf7vG0DAShFX",
        "colab_type": "code",
        "outputId": "ac51d429-05e1-49ce-d92d-5de208720289",
        "colab": {
          "base_uri": "https://localhost:8080/",
          "height": 34
        }
      },
      "source": [
        "list(range(0,18,2))"
      ],
      "execution_count": 0,
      "outputs": [
        {
          "output_type": "execute_result",
          "data": {
            "text/plain": [
              "[0, 2, 4, 6, 8, 10, 12, 14, 16]"
            ]
          },
          "metadata": {
            "tags": []
          },
          "execution_count": 45
        }
      ]
    },
    {
      "cell_type": "code",
      "metadata": {
        "id": "XHl5C4KcRCHl",
        "colab_type": "code",
        "colab": {}
      },
      "source": [
        "a=[]\n",
        "for i in range(9):\n",
        "  b=i*2\n",
        "  a.append(b)"
      ],
      "execution_count": 0,
      "outputs": []
    },
    {
      "cell_type": "code",
      "metadata": {
        "id": "yISrjCKZRK9z",
        "colab_type": "code",
        "outputId": "18f15a84-8adc-40d7-d506-30c0472cb3e4",
        "colab": {
          "base_uri": "https://localhost:8080/",
          "height": 34
        }
      },
      "source": [
        "a"
      ],
      "execution_count": 0,
      "outputs": [
        {
          "output_type": "execute_result",
          "data": {
            "text/plain": [
              "[0, 2, 4, 6, 8, 10, 12, 14, 16]"
            ]
          },
          "metadata": {
            "tags": []
          },
          "execution_count": 47
        }
      ]
    },
    {
      "cell_type": "code",
      "metadata": {
        "id": "s8DeIZRlRMEQ",
        "colab_type": "code",
        "outputId": "36d05f7d-cede-460f-9301-b4001f7c8ce8",
        "colab": {
          "base_uri": "https://localhost:8080/",
          "height": 595
        }
      },
      "source": [
        "whos"
      ],
      "execution_count": 0,
      "outputs": [
        {
          "output_type": "stream",
          "text": [
            "Variable            Type               Data/Info\n",
            "------------------------------------------------\n",
            "GoogleAuth          type               <class 'pydrive.auth.GoogleAuth'>\n",
            "GoogleCredentials   type               <class 'oauth2client.client.GoogleCredentials'>\n",
            "GoogleDrive         type               <class 'pydrive.drive.GoogleDrive'>\n",
            "a                   list               n=9\n",
            "auth                module             <module 'google.colab.aut<...>es/google/colab/auth.py'>\n",
            "b                   int                16\n",
            "c                   set                {1, 2, 3}\n",
            "csv                 module             <module 'csv' from '/usr/lib/python3.6/csv.py'>\n",
            "csvfile             TextIOWrapper      <_io.TextIOWrapper name='<...>ode='r' encoding='UTF-8'>\n",
            "d                   list               n=3\n",
            "data                list               n=152\n",
            "data_file           TextIOWrapper      <_io.TextIOWrapper name='<...>ode='r' encoding='UTF-8'>\n",
            "df2                 DataFrame               sepal.length  sepal.<...>n\\n[150 rows x 5 columns]\n",
            "dic                 dict               n=2\n",
            "drive               GoogleDrive        <pydrive.drive.GoogleDriv<...>object at 0x7f57fa8c7f60>\n",
            "file                GoogleDriveFile    GoogleDriveFile({'id': '1<...>Q', 'spaces': ['drive']})\n",
            "file1               GoogleDriveFile    GoogleDriveFile({'kind': <...>Q', 'spaces': ['drive']})\n",
            "file_list           list               n=3\n",
            "files               module             <module 'google.colab.fil<...>s/google/colab/files.py'>\n",
            "fn                  str                iris.csv\n",
            "gauth               GoogleAuth         <pydrive.auth.GoogleAuth <...>object at 0x7f58168910f0>\n",
            "i                   int                8\n",
            "io                  module             <module 'io' from '/usr/lib/python3.6/io.py'>\n",
            "iris_data           reader             <_csv.reader object at 0x7f57f8b899e8>\n",
            "json                module             <module 'json' from '/usr<...>hon3.6/json/__init__.py'>\n",
            "n                   int                5\n",
            "np                  module             <module 'numpy' from '/us<...>kages/numpy/__init__.py'>\n",
            "pd                  module             <module 'pandas' from '/u<...>ages/pandas/__init__.py'>\n",
            "pprint              function           <function pprint at 0x7f581a39d048>\n",
            "una_lista           list               n=3\n",
            "uploaded            dict               n=1\n",
            "x                   range              range(0, 6)\n"
          ],
          "name": "stdout"
        }
      ]
    },
    {
      "cell_type": "code",
      "metadata": {
        "id": "kqaiS1GmRNTH",
        "colab_type": "code",
        "outputId": "654d6675-6dd8-445e-b519-4dea1466b020",
        "colab": {
          "base_uri": "https://localhost:8080/",
          "height": 34
        }
      },
      "source": [
        "arr=np.asarray(a)\n",
        "arr"
      ],
      "execution_count": 0,
      "outputs": [
        {
          "output_type": "execute_result",
          "data": {
            "text/plain": [
              "array([ 0,  2,  4,  6,  8, 10, 12, 14, 16])"
            ]
          },
          "metadata": {
            "tags": []
          },
          "execution_count": 49
        }
      ]
    },
    {
      "cell_type": "code",
      "metadata": {
        "id": "0v0mpx2ARRyC",
        "colab_type": "code",
        "outputId": "46ba7675-c92b-40fe-c001-3ca4c2466a43",
        "colab": {
          "base_uri": "https://localhost:8080/",
          "height": 612
        }
      },
      "source": [
        "whos"
      ],
      "execution_count": 0,
      "outputs": [
        {
          "output_type": "stream",
          "text": [
            "Variable            Type               Data/Info\n",
            "------------------------------------------------\n",
            "GoogleAuth          type               <class 'pydrive.auth.GoogleAuth'>\n",
            "GoogleCredentials   type               <class 'oauth2client.client.GoogleCredentials'>\n",
            "GoogleDrive         type               <class 'pydrive.drive.GoogleDrive'>\n",
            "a                   list               n=9\n",
            "arr                 ndarray            9: 9 elems, type `int64`, 72 bytes\n",
            "auth                module             <module 'google.colab.aut<...>es/google/colab/auth.py'>\n",
            "b                   int                16\n",
            "c                   set                {1, 2, 3}\n",
            "csv                 module             <module 'csv' from '/usr/lib/python3.6/csv.py'>\n",
            "csvfile             TextIOWrapper      <_io.TextIOWrapper name='<...>ode='r' encoding='UTF-8'>\n",
            "d                   list               n=3\n",
            "data                list               n=152\n",
            "data_file           TextIOWrapper      <_io.TextIOWrapper name='<...>ode='r' encoding='UTF-8'>\n",
            "df2                 DataFrame               sepal.length  sepal.<...>n\\n[150 rows x 5 columns]\n",
            "dic                 dict               n=2\n",
            "drive               GoogleDrive        <pydrive.drive.GoogleDriv<...>object at 0x7f57fa8c7f60>\n",
            "file                GoogleDriveFile    GoogleDriveFile({'id': '1<...>Q', 'spaces': ['drive']})\n",
            "file1               GoogleDriveFile    GoogleDriveFile({'kind': <...>Q', 'spaces': ['drive']})\n",
            "file_list           list               n=3\n",
            "files               module             <module 'google.colab.fil<...>s/google/colab/files.py'>\n",
            "fn                  str                iris.csv\n",
            "gauth               GoogleAuth         <pydrive.auth.GoogleAuth <...>object at 0x7f58168910f0>\n",
            "i                   int                8\n",
            "io                  module             <module 'io' from '/usr/lib/python3.6/io.py'>\n",
            "iris_data           reader             <_csv.reader object at 0x7f57f8b899e8>\n",
            "json                module             <module 'json' from '/usr<...>hon3.6/json/__init__.py'>\n",
            "n                   int                5\n",
            "np                  module             <module 'numpy' from '/us<...>kages/numpy/__init__.py'>\n",
            "pd                  module             <module 'pandas' from '/u<...>ages/pandas/__init__.py'>\n",
            "pprint              function           <function pprint at 0x7f581a39d048>\n",
            "una_lista           list               n=3\n",
            "uploaded            dict               n=1\n",
            "x                   range              range(0, 6)\n"
          ],
          "name": "stdout"
        }
      ]
    },
    {
      "cell_type": "code",
      "metadata": {
        "id": "J0jPA8I9PH9V",
        "colab_type": "code",
        "outputId": "fb3c5ffc-8539-4eac-9ca4-c17fe7ea0553",
        "colab": {
          "base_uri": "https://localhost:8080/",
          "height": 34
        }
      },
      "source": [
        "(arr>4)*1.0"
      ],
      "execution_count": 0,
      "outputs": [
        {
          "output_type": "execute_result",
          "data": {
            "text/plain": [
              "array([0., 0., 0., 1., 1., 1., 1., 1., 1.])"
            ]
          },
          "metadata": {
            "tags": []
          },
          "execution_count": 51
        }
      ]
    },
    {
      "cell_type": "markdown",
      "metadata": {
        "id": "us6VCGsiSLJw",
        "colab_type": "text"
      },
      "source": [
        "## Funciones"
      ]
    },
    {
      "cell_type": "code",
      "metadata": {
        "id": "UA237qnZDclS",
        "colab_type": "code",
        "colab": {}
      },
      "source": [
        "def cuadrado(x):\n",
        "    \"\"\"\n",
        "    Colocar toda la ayuda que consideren necesaria\n",
        "    La función cuadrado retorna un número x elevado al cuadrado.\n",
        "    \"\"\"\n",
        "    a=x**(1/2)\n",
        "    b=-a\n",
        "    return a,b"
      ],
      "execution_count": 0,
      "outputs": []
    },
    {
      "cell_type": "code",
      "metadata": {
        "id": "WK0ORXkFSUP0",
        "colab_type": "code",
        "outputId": "a347eb31-cb5b-4c8d-97c7-8ea4b08d52c0",
        "colab": {
          "base_uri": "https://localhost:8080/",
          "height": 34
        }
      },
      "source": [
        "cuadrado(169)"
      ],
      "execution_count": 0,
      "outputs": [
        {
          "output_type": "execute_result",
          "data": {
            "text/plain": [
              "(13.0, -13.0)"
            ]
          },
          "metadata": {
            "tags": []
          },
          "execution_count": 53
        }
      ]
    },
    {
      "cell_type": "code",
      "metadata": {
        "id": "ZburKnE1SR2d",
        "colab_type": "code",
        "colab": {}
      },
      "source": [
        "cuadrado?"
      ],
      "execution_count": 0,
      "outputs": []
    },
    {
      "cell_type": "code",
      "metadata": {
        "id": "1s2e5INqSSwV",
        "colab_type": "code",
        "outputId": "7247d55a-1478-4396-c1a4-b3a6bd9b3330",
        "colab": {
          "base_uri": "https://localhost:8080/",
          "height": 34
        }
      },
      "source": [
        "#Otra forma\n",
        "lambda var: np.sqrt(var)"
      ],
      "execution_count": 0,
      "outputs": [
        {
          "output_type": "execute_result",
          "data": {
            "text/plain": [
              "<function __main__.<lambda>>"
            ]
          },
          "metadata": {
            "tags": []
          },
          "execution_count": 56
        }
      ]
    },
    {
      "cell_type": "code",
      "metadata": {
        "id": "jOozY2IqSyNy",
        "colab_type": "code",
        "outputId": "43587945-cf9a-48fc-8812-e44e25ff97ee",
        "colab": {
          "base_uri": "https://localhost:8080/",
          "height": 34
        }
      },
      "source": [
        "raiz2 = lambda var: (var**(1/2),-var**(1/2))\n",
        "raiz2(169)"
      ],
      "execution_count": 0,
      "outputs": [
        {
          "output_type": "execute_result",
          "data": {
            "text/plain": [
              "(13.0, -13.0)"
            ]
          },
          "metadata": {
            "tags": []
          },
          "execution_count": 57
        }
      ]
    },
    {
      "cell_type": "markdown",
      "metadata": {
        "id": "FkN4wOukTpbG",
        "colab_type": "text"
      },
      "source": [
        "## EJERCICIO 1"
      ]
    },
    {
      "cell_type": "code",
      "metadata": {
        "id": "KInQpbQgThqu",
        "colab_type": "code",
        "colab": {}
      },
      "source": [
        "def gen_serie(x):\n",
        "  \"\"\"\n",
        "  Sumar los primeros 10 números\n",
        "  \"\"\"\n",
        "  suma=[]\n",
        "  for i in range(x):\n",
        "    # Coloque aqui la línea de código\n",
        "  suma=np.array(suma)\n",
        "  return suma.sum()"
      ],
      "execution_count": 0,
      "outputs": []
    },
    {
      "cell_type": "code",
      "metadata": {
        "id": "vBrbTSr3q9Gh",
        "colab_type": "code",
        "colab": {}
      },
      "source": [
        "gen_serie(10)"
      ],
      "execution_count": 0,
      "outputs": []
    },
    {
      "cell_type": "code",
      "metadata": {
        "id": "oj6RnEhoTwoo",
        "colab_type": "code",
        "outputId": "e6b671cb-c9f1-434d-f163-72e4086efe9d",
        "colab": {
          "base_uri": "https://localhost:8080/",
          "height": 35
        }
      },
      "source": [
        "#No corra esta celda"
      ],
      "execution_count": 0,
      "outputs": [
        {
          "output_type": "execute_result",
          "data": {
            "text/plain": [
              "45"
            ]
          },
          "metadata": {
            "tags": []
          },
          "execution_count": 58
        }
      ]
    },
    {
      "cell_type": "markdown",
      "metadata": {
        "id": "4QBRIoYKU3xB",
        "colab_type": "text"
      },
      "source": [
        "## EJERCICIO 2"
      ]
    },
    {
      "cell_type": "code",
      "metadata": {
        "id": "jES6EREyU6FF",
        "colab_type": "code",
        "colab": {}
      },
      "source": [
        "# Cargar un archivo .txt de Drive y mostrar sus elementos"
      ],
      "execution_count": 0,
      "outputs": []
    },
    {
      "cell_type": "markdown",
      "metadata": {
        "colab_type": "text",
        "id": "hhLsI9vApRY3"
      },
      "source": [
        "## EJERCICIO 3"
      ]
    },
    {
      "cell_type": "code",
      "metadata": {
        "id": "2MaMnVn_vV0S",
        "colab_type": "code",
        "colab": {}
      },
      "source": [
        "import pandas as pd\n",
        "from matplotlib import pyplot as plt\n",
        "%matplotlib inline"
      ],
      "execution_count": 0,
      "outputs": []
    },
    {
      "cell_type": "code",
      "metadata": {
        "colab_type": "code",
        "id": "dj0mMgGrpRZC",
        "colab": {}
      },
      "source": [
        "# Descargar los datos de: https://docs.google.com/spreadsheets/d/1XSQtxSZ-1OvwPCjEheVhuccgyEe9PXv8f7u7-X-Ed9Y/edit#gid=0"
      ],
      "execution_count": 0,
      "outputs": []
    },
    {
      "cell_type": "code",
      "metadata": {
        "id": "B-0WEYnUsgv3",
        "colab_type": "code",
        "colab": {}
      },
      "source": [
        "df = pd.read_excel('AnscombeAndDatasaurusDataset.xlsx')"
      ],
      "execution_count": 0,
      "outputs": []
    },
    {
      "cell_type": "code",
      "metadata": {
        "id": "btfl613qtNop",
        "colab_type": "code",
        "outputId": "79d88d09-e373-4aa2-aa27-aed9b77117bb",
        "colab": {
          "base_uri": "https://localhost:8080/",
          "height": 34
        }
      },
      "source": [
        "df.keys()"
      ],
      "execution_count": 0,
      "outputs": [
        {
          "output_type": "execute_result",
          "data": {
            "text/plain": [
              "Index(['Set', 'pointid', 'dataset', 'x', 'y'], dtype='object')"
            ]
          },
          "metadata": {
            "tags": []
          },
          "execution_count": 66
        }
      ]
    },
    {
      "cell_type": "code",
      "metadata": {
        "id": "hUqBFBBRuJjv",
        "colab_type": "code",
        "outputId": "86f3b450-a6f6-4c83-9f55-64879ba6cd2f",
        "colab": {
          "base_uri": "https://localhost:8080/",
          "height": 85
        }
      },
      "source": [
        "df['dataset'].unique()"
      ],
      "execution_count": 0,
      "outputs": [
        {
          "output_type": "execute_result",
          "data": {
            "text/plain": [
              "array(['dino', 'away', 'h_lines', 'v_lines', 'x_shape', 'star',\n",
              "       'high_lines', 'dots', 'circle', 'bullseye', 'slant_up',\n",
              "       'slant_down', 'wide_lines', 'Anscombe 1', 'Anscombe 2',\n",
              "       'Anscombe 3', 'Anscombe 4'], dtype=object)"
            ]
          },
          "metadata": {
            "tags": []
          },
          "execution_count": 67
        }
      ]
    },
    {
      "cell_type": "markdown",
      "metadata": {
        "id": "cR8fNnKLup5Z",
        "colab_type": "text"
      },
      "source": [
        "## Aquí gráfique 'dino'"
      ]
    },
    {
      "cell_type": "code",
      "metadata": {
        "id": "cq-E-S9GxJL6",
        "colab_type": "code",
        "outputId": "6f1c67ef-4307-4e70-8258-614b8b3eec1f",
        "colab": {
          "base_uri": "https://localhost:8080/",
          "height": 1000
        }
      },
      "source": [
        "dino = df[df['dataset']=='dino']\n",
        "dino"
      ],
      "execution_count": 0,
      "outputs": [
        {
          "output_type": "execute_result",
          "data": {
            "text/html": [
              "<div>\n",
              "<style scoped>\n",
              "    .dataframe tbody tr th:only-of-type {\n",
              "        vertical-align: middle;\n",
              "    }\n",
              "\n",
              "    .dataframe tbody tr th {\n",
              "        vertical-align: top;\n",
              "    }\n",
              "\n",
              "    .dataframe thead th {\n",
              "        text-align: right;\n",
              "    }\n",
              "</style>\n",
              "<table border=\"1\" class=\"dataframe\">\n",
              "  <thead>\n",
              "    <tr style=\"text-align: right;\">\n",
              "      <th></th>\n",
              "      <th>Set</th>\n",
              "      <th>pointid</th>\n",
              "      <th>dataset</th>\n",
              "      <th>x</th>\n",
              "      <th>y</th>\n",
              "    </tr>\n",
              "  </thead>\n",
              "  <tbody>\n",
              "    <tr>\n",
              "      <th>0</th>\n",
              "      <td>Datasaurus Dozen</td>\n",
              "      <td>1</td>\n",
              "      <td>dino</td>\n",
              "      <td>55.3846</td>\n",
              "      <td>97.1795</td>\n",
              "    </tr>\n",
              "    <tr>\n",
              "      <th>1</th>\n",
              "      <td>Datasaurus Dozen</td>\n",
              "      <td>2</td>\n",
              "      <td>dino</td>\n",
              "      <td>51.5385</td>\n",
              "      <td>96.0256</td>\n",
              "    </tr>\n",
              "    <tr>\n",
              "      <th>2</th>\n",
              "      <td>Datasaurus Dozen</td>\n",
              "      <td>3</td>\n",
              "      <td>dino</td>\n",
              "      <td>46.1538</td>\n",
              "      <td>94.4872</td>\n",
              "    </tr>\n",
              "    <tr>\n",
              "      <th>3</th>\n",
              "      <td>Datasaurus Dozen</td>\n",
              "      <td>4</td>\n",
              "      <td>dino</td>\n",
              "      <td>42.8205</td>\n",
              "      <td>91.4103</td>\n",
              "    </tr>\n",
              "    <tr>\n",
              "      <th>4</th>\n",
              "      <td>Datasaurus Dozen</td>\n",
              "      <td>5</td>\n",
              "      <td>dino</td>\n",
              "      <td>40.7692</td>\n",
              "      <td>88.3333</td>\n",
              "    </tr>\n",
              "    <tr>\n",
              "      <th>5</th>\n",
              "      <td>Datasaurus Dozen</td>\n",
              "      <td>6</td>\n",
              "      <td>dino</td>\n",
              "      <td>38.7179</td>\n",
              "      <td>84.8718</td>\n",
              "    </tr>\n",
              "    <tr>\n",
              "      <th>6</th>\n",
              "      <td>Datasaurus Dozen</td>\n",
              "      <td>7</td>\n",
              "      <td>dino</td>\n",
              "      <td>35.6410</td>\n",
              "      <td>79.8718</td>\n",
              "    </tr>\n",
              "    <tr>\n",
              "      <th>7</th>\n",
              "      <td>Datasaurus Dozen</td>\n",
              "      <td>8</td>\n",
              "      <td>dino</td>\n",
              "      <td>33.0769</td>\n",
              "      <td>77.5641</td>\n",
              "    </tr>\n",
              "    <tr>\n",
              "      <th>8</th>\n",
              "      <td>Datasaurus Dozen</td>\n",
              "      <td>9</td>\n",
              "      <td>dino</td>\n",
              "      <td>28.9744</td>\n",
              "      <td>74.4872</td>\n",
              "    </tr>\n",
              "    <tr>\n",
              "      <th>9</th>\n",
              "      <td>Datasaurus Dozen</td>\n",
              "      <td>10</td>\n",
              "      <td>dino</td>\n",
              "      <td>26.1538</td>\n",
              "      <td>71.4103</td>\n",
              "    </tr>\n",
              "    <tr>\n",
              "      <th>10</th>\n",
              "      <td>Datasaurus Dozen</td>\n",
              "      <td>11</td>\n",
              "      <td>dino</td>\n",
              "      <td>23.0769</td>\n",
              "      <td>66.4103</td>\n",
              "    </tr>\n",
              "    <tr>\n",
              "      <th>11</th>\n",
              "      <td>Datasaurus Dozen</td>\n",
              "      <td>12</td>\n",
              "      <td>dino</td>\n",
              "      <td>22.3077</td>\n",
              "      <td>61.7949</td>\n",
              "    </tr>\n",
              "    <tr>\n",
              "      <th>12</th>\n",
              "      <td>Datasaurus Dozen</td>\n",
              "      <td>13</td>\n",
              "      <td>dino</td>\n",
              "      <td>22.3077</td>\n",
              "      <td>57.1795</td>\n",
              "    </tr>\n",
              "    <tr>\n",
              "      <th>13</th>\n",
              "      <td>Datasaurus Dozen</td>\n",
              "      <td>14</td>\n",
              "      <td>dino</td>\n",
              "      <td>23.3333</td>\n",
              "      <td>52.9487</td>\n",
              "    </tr>\n",
              "    <tr>\n",
              "      <th>14</th>\n",
              "      <td>Datasaurus Dozen</td>\n",
              "      <td>15</td>\n",
              "      <td>dino</td>\n",
              "      <td>25.8974</td>\n",
              "      <td>51.0256</td>\n",
              "    </tr>\n",
              "    <tr>\n",
              "      <th>15</th>\n",
              "      <td>Datasaurus Dozen</td>\n",
              "      <td>16</td>\n",
              "      <td>dino</td>\n",
              "      <td>29.4872</td>\n",
              "      <td>51.0256</td>\n",
              "    </tr>\n",
              "    <tr>\n",
              "      <th>16</th>\n",
              "      <td>Datasaurus Dozen</td>\n",
              "      <td>17</td>\n",
              "      <td>dino</td>\n",
              "      <td>32.8205</td>\n",
              "      <td>51.0256</td>\n",
              "    </tr>\n",
              "    <tr>\n",
              "      <th>17</th>\n",
              "      <td>Datasaurus Dozen</td>\n",
              "      <td>18</td>\n",
              "      <td>dino</td>\n",
              "      <td>35.3846</td>\n",
              "      <td>51.4103</td>\n",
              "    </tr>\n",
              "    <tr>\n",
              "      <th>18</th>\n",
              "      <td>Datasaurus Dozen</td>\n",
              "      <td>19</td>\n",
              "      <td>dino</td>\n",
              "      <td>40.2564</td>\n",
              "      <td>51.4103</td>\n",
              "    </tr>\n",
              "    <tr>\n",
              "      <th>19</th>\n",
              "      <td>Datasaurus Dozen</td>\n",
              "      <td>20</td>\n",
              "      <td>dino</td>\n",
              "      <td>44.1026</td>\n",
              "      <td>52.9487</td>\n",
              "    </tr>\n",
              "    <tr>\n",
              "      <th>20</th>\n",
              "      <td>Datasaurus Dozen</td>\n",
              "      <td>21</td>\n",
              "      <td>dino</td>\n",
              "      <td>46.6667</td>\n",
              "      <td>54.1026</td>\n",
              "    </tr>\n",
              "    <tr>\n",
              "      <th>21</th>\n",
              "      <td>Datasaurus Dozen</td>\n",
              "      <td>22</td>\n",
              "      <td>dino</td>\n",
              "      <td>50.0000</td>\n",
              "      <td>55.2564</td>\n",
              "    </tr>\n",
              "    <tr>\n",
              "      <th>22</th>\n",
              "      <td>Datasaurus Dozen</td>\n",
              "      <td>23</td>\n",
              "      <td>dino</td>\n",
              "      <td>53.0769</td>\n",
              "      <td>55.6410</td>\n",
              "    </tr>\n",
              "    <tr>\n",
              "      <th>23</th>\n",
              "      <td>Datasaurus Dozen</td>\n",
              "      <td>24</td>\n",
              "      <td>dino</td>\n",
              "      <td>56.6667</td>\n",
              "      <td>56.0256</td>\n",
              "    </tr>\n",
              "    <tr>\n",
              "      <th>24</th>\n",
              "      <td>Datasaurus Dozen</td>\n",
              "      <td>25</td>\n",
              "      <td>dino</td>\n",
              "      <td>59.2308</td>\n",
              "      <td>57.9487</td>\n",
              "    </tr>\n",
              "    <tr>\n",
              "      <th>25</th>\n",
              "      <td>Datasaurus Dozen</td>\n",
              "      <td>26</td>\n",
              "      <td>dino</td>\n",
              "      <td>61.2821</td>\n",
              "      <td>62.1795</td>\n",
              "    </tr>\n",
              "    <tr>\n",
              "      <th>26</th>\n",
              "      <td>Datasaurus Dozen</td>\n",
              "      <td>27</td>\n",
              "      <td>dino</td>\n",
              "      <td>61.5385</td>\n",
              "      <td>66.4103</td>\n",
              "    </tr>\n",
              "    <tr>\n",
              "      <th>27</th>\n",
              "      <td>Datasaurus Dozen</td>\n",
              "      <td>28</td>\n",
              "      <td>dino</td>\n",
              "      <td>61.7949</td>\n",
              "      <td>69.1026</td>\n",
              "    </tr>\n",
              "    <tr>\n",
              "      <th>28</th>\n",
              "      <td>Datasaurus Dozen</td>\n",
              "      <td>29</td>\n",
              "      <td>dino</td>\n",
              "      <td>57.4359</td>\n",
              "      <td>55.2564</td>\n",
              "    </tr>\n",
              "    <tr>\n",
              "      <th>29</th>\n",
              "      <td>Datasaurus Dozen</td>\n",
              "      <td>30</td>\n",
              "      <td>dino</td>\n",
              "      <td>54.8718</td>\n",
              "      <td>49.8718</td>\n",
              "    </tr>\n",
              "    <tr>\n",
              "      <th>...</th>\n",
              "      <td>...</td>\n",
              "      <td>...</td>\n",
              "      <td>...</td>\n",
              "      <td>...</td>\n",
              "      <td>...</td>\n",
              "    </tr>\n",
              "    <tr>\n",
              "      <th>112</th>\n",
              "      <td>Datasaurus Dozen</td>\n",
              "      <td>113</td>\n",
              "      <td>dino</td>\n",
              "      <td>52.3077</td>\n",
              "      <td>18.3333</td>\n",
              "    </tr>\n",
              "    <tr>\n",
              "      <th>113</th>\n",
              "      <td>Datasaurus Dozen</td>\n",
              "      <td>114</td>\n",
              "      <td>dino</td>\n",
              "      <td>49.7436</td>\n",
              "      <td>17.5641</td>\n",
              "    </tr>\n",
              "    <tr>\n",
              "      <th>114</th>\n",
              "      <td>Datasaurus Dozen</td>\n",
              "      <td>115</td>\n",
              "      <td>dino</td>\n",
              "      <td>47.4359</td>\n",
              "      <td>16.0256</td>\n",
              "    </tr>\n",
              "    <tr>\n",
              "      <th>115</th>\n",
              "      <td>Datasaurus Dozen</td>\n",
              "      <td>116</td>\n",
              "      <td>dino</td>\n",
              "      <td>44.8718</td>\n",
              "      <td>13.7180</td>\n",
              "    </tr>\n",
              "    <tr>\n",
              "      <th>116</th>\n",
              "      <td>Datasaurus Dozen</td>\n",
              "      <td>117</td>\n",
              "      <td>dino</td>\n",
              "      <td>48.7179</td>\n",
              "      <td>14.8718</td>\n",
              "    </tr>\n",
              "    <tr>\n",
              "      <th>117</th>\n",
              "      <td>Datasaurus Dozen</td>\n",
              "      <td>118</td>\n",
              "      <td>dino</td>\n",
              "      <td>51.2821</td>\n",
              "      <td>14.8718</td>\n",
              "    </tr>\n",
              "    <tr>\n",
              "      <th>118</th>\n",
              "      <td>Datasaurus Dozen</td>\n",
              "      <td>119</td>\n",
              "      <td>dino</td>\n",
              "      <td>54.1026</td>\n",
              "      <td>14.8718</td>\n",
              "    </tr>\n",
              "    <tr>\n",
              "      <th>119</th>\n",
              "      <td>Datasaurus Dozen</td>\n",
              "      <td>120</td>\n",
              "      <td>dino</td>\n",
              "      <td>56.1538</td>\n",
              "      <td>14.1026</td>\n",
              "    </tr>\n",
              "    <tr>\n",
              "      <th>120</th>\n",
              "      <td>Datasaurus Dozen</td>\n",
              "      <td>121</td>\n",
              "      <td>dino</td>\n",
              "      <td>52.0513</td>\n",
              "      <td>12.5641</td>\n",
              "    </tr>\n",
              "    <tr>\n",
              "      <th>121</th>\n",
              "      <td>Datasaurus Dozen</td>\n",
              "      <td>122</td>\n",
              "      <td>dino</td>\n",
              "      <td>48.7179</td>\n",
              "      <td>11.0256</td>\n",
              "    </tr>\n",
              "    <tr>\n",
              "      <th>122</th>\n",
              "      <td>Datasaurus Dozen</td>\n",
              "      <td>123</td>\n",
              "      <td>dino</td>\n",
              "      <td>47.1795</td>\n",
              "      <td>9.8718</td>\n",
              "    </tr>\n",
              "    <tr>\n",
              "      <th>123</th>\n",
              "      <td>Datasaurus Dozen</td>\n",
              "      <td>124</td>\n",
              "      <td>dino</td>\n",
              "      <td>46.1538</td>\n",
              "      <td>6.0256</td>\n",
              "    </tr>\n",
              "    <tr>\n",
              "      <th>124</th>\n",
              "      <td>Datasaurus Dozen</td>\n",
              "      <td>125</td>\n",
              "      <td>dino</td>\n",
              "      <td>50.5128</td>\n",
              "      <td>9.4872</td>\n",
              "    </tr>\n",
              "    <tr>\n",
              "      <th>125</th>\n",
              "      <td>Datasaurus Dozen</td>\n",
              "      <td>126</td>\n",
              "      <td>dino</td>\n",
              "      <td>53.8462</td>\n",
              "      <td>10.2564</td>\n",
              "    </tr>\n",
              "    <tr>\n",
              "      <th>126</th>\n",
              "      <td>Datasaurus Dozen</td>\n",
              "      <td>127</td>\n",
              "      <td>dino</td>\n",
              "      <td>57.4359</td>\n",
              "      <td>10.2564</td>\n",
              "    </tr>\n",
              "    <tr>\n",
              "      <th>127</th>\n",
              "      <td>Datasaurus Dozen</td>\n",
              "      <td>128</td>\n",
              "      <td>dino</td>\n",
              "      <td>60.0000</td>\n",
              "      <td>10.6410</td>\n",
              "    </tr>\n",
              "    <tr>\n",
              "      <th>128</th>\n",
              "      <td>Datasaurus Dozen</td>\n",
              "      <td>129</td>\n",
              "      <td>dino</td>\n",
              "      <td>64.1026</td>\n",
              "      <td>10.6410</td>\n",
              "    </tr>\n",
              "    <tr>\n",
              "      <th>129</th>\n",
              "      <td>Datasaurus Dozen</td>\n",
              "      <td>130</td>\n",
              "      <td>dino</td>\n",
              "      <td>66.9231</td>\n",
              "      <td>10.6410</td>\n",
              "    </tr>\n",
              "    <tr>\n",
              "      <th>130</th>\n",
              "      <td>Datasaurus Dozen</td>\n",
              "      <td>131</td>\n",
              "      <td>dino</td>\n",
              "      <td>71.2821</td>\n",
              "      <td>10.6410</td>\n",
              "    </tr>\n",
              "    <tr>\n",
              "      <th>131</th>\n",
              "      <td>Datasaurus Dozen</td>\n",
              "      <td>132</td>\n",
              "      <td>dino</td>\n",
              "      <td>74.3590</td>\n",
              "      <td>10.6410</td>\n",
              "    </tr>\n",
              "    <tr>\n",
              "      <th>132</th>\n",
              "      <td>Datasaurus Dozen</td>\n",
              "      <td>133</td>\n",
              "      <td>dino</td>\n",
              "      <td>78.2051</td>\n",
              "      <td>10.6410</td>\n",
              "    </tr>\n",
              "    <tr>\n",
              "      <th>133</th>\n",
              "      <td>Datasaurus Dozen</td>\n",
              "      <td>134</td>\n",
              "      <td>dino</td>\n",
              "      <td>67.9487</td>\n",
              "      <td>8.7180</td>\n",
              "    </tr>\n",
              "    <tr>\n",
              "      <th>134</th>\n",
              "      <td>Datasaurus Dozen</td>\n",
              "      <td>135</td>\n",
              "      <td>dino</td>\n",
              "      <td>68.4615</td>\n",
              "      <td>5.2564</td>\n",
              "    </tr>\n",
              "    <tr>\n",
              "      <th>135</th>\n",
              "      <td>Datasaurus Dozen</td>\n",
              "      <td>136</td>\n",
              "      <td>dino</td>\n",
              "      <td>68.2051</td>\n",
              "      <td>2.9487</td>\n",
              "    </tr>\n",
              "    <tr>\n",
              "      <th>136</th>\n",
              "      <td>Datasaurus Dozen</td>\n",
              "      <td>137</td>\n",
              "      <td>dino</td>\n",
              "      <td>37.6923</td>\n",
              "      <td>25.7692</td>\n",
              "    </tr>\n",
              "    <tr>\n",
              "      <th>137</th>\n",
              "      <td>Datasaurus Dozen</td>\n",
              "      <td>138</td>\n",
              "      <td>dino</td>\n",
              "      <td>39.4872</td>\n",
              "      <td>25.3846</td>\n",
              "    </tr>\n",
              "    <tr>\n",
              "      <th>138</th>\n",
              "      <td>Datasaurus Dozen</td>\n",
              "      <td>139</td>\n",
              "      <td>dino</td>\n",
              "      <td>91.2821</td>\n",
              "      <td>41.5385</td>\n",
              "    </tr>\n",
              "    <tr>\n",
              "      <th>139</th>\n",
              "      <td>Datasaurus Dozen</td>\n",
              "      <td>140</td>\n",
              "      <td>dino</td>\n",
              "      <td>50.0000</td>\n",
              "      <td>95.7692</td>\n",
              "    </tr>\n",
              "    <tr>\n",
              "      <th>140</th>\n",
              "      <td>Datasaurus Dozen</td>\n",
              "      <td>141</td>\n",
              "      <td>dino</td>\n",
              "      <td>47.9487</td>\n",
              "      <td>95.0000</td>\n",
              "    </tr>\n",
              "    <tr>\n",
              "      <th>141</th>\n",
              "      <td>Datasaurus Dozen</td>\n",
              "      <td>142</td>\n",
              "      <td>dino</td>\n",
              "      <td>44.1026</td>\n",
              "      <td>92.6923</td>\n",
              "    </tr>\n",
              "  </tbody>\n",
              "</table>\n",
              "<p>142 rows × 5 columns</p>\n",
              "</div>"
            ],
            "text/plain": [
              "                  Set  pointid dataset        x        y\n",
              "0    Datasaurus Dozen        1    dino  55.3846  97.1795\n",
              "1    Datasaurus Dozen        2    dino  51.5385  96.0256\n",
              "2    Datasaurus Dozen        3    dino  46.1538  94.4872\n",
              "3    Datasaurus Dozen        4    dino  42.8205  91.4103\n",
              "4    Datasaurus Dozen        5    dino  40.7692  88.3333\n",
              "5    Datasaurus Dozen        6    dino  38.7179  84.8718\n",
              "6    Datasaurus Dozen        7    dino  35.6410  79.8718\n",
              "7    Datasaurus Dozen        8    dino  33.0769  77.5641\n",
              "8    Datasaurus Dozen        9    dino  28.9744  74.4872\n",
              "9    Datasaurus Dozen       10    dino  26.1538  71.4103\n",
              "10   Datasaurus Dozen       11    dino  23.0769  66.4103\n",
              "11   Datasaurus Dozen       12    dino  22.3077  61.7949\n",
              "12   Datasaurus Dozen       13    dino  22.3077  57.1795\n",
              "13   Datasaurus Dozen       14    dino  23.3333  52.9487\n",
              "14   Datasaurus Dozen       15    dino  25.8974  51.0256\n",
              "15   Datasaurus Dozen       16    dino  29.4872  51.0256\n",
              "16   Datasaurus Dozen       17    dino  32.8205  51.0256\n",
              "17   Datasaurus Dozen       18    dino  35.3846  51.4103\n",
              "18   Datasaurus Dozen       19    dino  40.2564  51.4103\n",
              "19   Datasaurus Dozen       20    dino  44.1026  52.9487\n",
              "20   Datasaurus Dozen       21    dino  46.6667  54.1026\n",
              "21   Datasaurus Dozen       22    dino  50.0000  55.2564\n",
              "22   Datasaurus Dozen       23    dino  53.0769  55.6410\n",
              "23   Datasaurus Dozen       24    dino  56.6667  56.0256\n",
              "24   Datasaurus Dozen       25    dino  59.2308  57.9487\n",
              "25   Datasaurus Dozen       26    dino  61.2821  62.1795\n",
              "26   Datasaurus Dozen       27    dino  61.5385  66.4103\n",
              "27   Datasaurus Dozen       28    dino  61.7949  69.1026\n",
              "28   Datasaurus Dozen       29    dino  57.4359  55.2564\n",
              "29   Datasaurus Dozen       30    dino  54.8718  49.8718\n",
              "..                ...      ...     ...      ...      ...\n",
              "112  Datasaurus Dozen      113    dino  52.3077  18.3333\n",
              "113  Datasaurus Dozen      114    dino  49.7436  17.5641\n",
              "114  Datasaurus Dozen      115    dino  47.4359  16.0256\n",
              "115  Datasaurus Dozen      116    dino  44.8718  13.7180\n",
              "116  Datasaurus Dozen      117    dino  48.7179  14.8718\n",
              "117  Datasaurus Dozen      118    dino  51.2821  14.8718\n",
              "118  Datasaurus Dozen      119    dino  54.1026  14.8718\n",
              "119  Datasaurus Dozen      120    dino  56.1538  14.1026\n",
              "120  Datasaurus Dozen      121    dino  52.0513  12.5641\n",
              "121  Datasaurus Dozen      122    dino  48.7179  11.0256\n",
              "122  Datasaurus Dozen      123    dino  47.1795   9.8718\n",
              "123  Datasaurus Dozen      124    dino  46.1538   6.0256\n",
              "124  Datasaurus Dozen      125    dino  50.5128   9.4872\n",
              "125  Datasaurus Dozen      126    dino  53.8462  10.2564\n",
              "126  Datasaurus Dozen      127    dino  57.4359  10.2564\n",
              "127  Datasaurus Dozen      128    dino  60.0000  10.6410\n",
              "128  Datasaurus Dozen      129    dino  64.1026  10.6410\n",
              "129  Datasaurus Dozen      130    dino  66.9231  10.6410\n",
              "130  Datasaurus Dozen      131    dino  71.2821  10.6410\n",
              "131  Datasaurus Dozen      132    dino  74.3590  10.6410\n",
              "132  Datasaurus Dozen      133    dino  78.2051  10.6410\n",
              "133  Datasaurus Dozen      134    dino  67.9487   8.7180\n",
              "134  Datasaurus Dozen      135    dino  68.4615   5.2564\n",
              "135  Datasaurus Dozen      136    dino  68.2051   2.9487\n",
              "136  Datasaurus Dozen      137    dino  37.6923  25.7692\n",
              "137  Datasaurus Dozen      138    dino  39.4872  25.3846\n",
              "138  Datasaurus Dozen      139    dino  91.2821  41.5385\n",
              "139  Datasaurus Dozen      140    dino  50.0000  95.7692\n",
              "140  Datasaurus Dozen      141    dino  47.9487  95.0000\n",
              "141  Datasaurus Dozen      142    dino  44.1026  92.6923\n",
              "\n",
              "[142 rows x 5 columns]"
            ]
          },
          "metadata": {
            "tags": []
          },
          "execution_count": 68
        }
      ]
    },
    {
      "cell_type": "code",
      "metadata": {
        "id": "h4cGnTQouj6h",
        "colab_type": "code",
        "colab": {}
      },
      "source": [
        "# Escriba aqui su código"
      ],
      "execution_count": 0,
      "outputs": []
    },
    {
      "cell_type": "code",
      "metadata": {
        "id": "rbYSmteHuuGn",
        "colab_type": "code",
        "outputId": "76812b8b-b98d-4113-9e36-accd0fcf9ac2",
        "colab": {
          "base_uri": "https://localhost:8080/",
          "height": 301
        }
      },
      "source": [
        "# No corra esta celda (Hint: Use plot.scatter)"
      ],
      "execution_count": 0,
      "outputs": [
        {
          "output_type": "execute_result",
          "data": {
            "text/plain": [
              "<matplotlib.axes._subplots.AxesSubplot at 0x7fe23502d2e8>"
            ]
          },
          "metadata": {
            "tags": []
          },
          "execution_count": 43
        },
        {
          "output_type": "display_data",
          "data": {
            "image/png": "[encoded data removed]",
            "text/plain": [
              "<Figure size 432x288 with 1 Axes>"
            ]
          },
          "metadata": {
            "tags": []
          }
        }
      ]
    },
    {
      "cell_type": "markdown",
      "metadata": {
        "colab_type": "text",
        "id": "v0kWP0ZZuuRi"
      },
      "source": [
        "## Aquí gráfique desde 'away' hasta 'wide_lines'"
      ]
    },
    {
      "cell_type": "code",
      "metadata": {
        "id": "eEiDWjTbyebX",
        "colab_type": "code",
        "outputId": "e56b88d7-55d2-485c-a238-67e761489fd1",
        "colab": {
          "base_uri": "https://localhost:8080/",
          "height": 1000
        }
      },
      "source": [
        "my_list=['away', 'h_lines', 'v_lines', 'x_shape', 'star','high_lines', 'dots', 'circle', 'bullseye', 'slant_up','slant_down', 'wide_lines']\n",
        "doce = df[df['dataset'].isin(my_list)]\n",
        "doce"
      ],
      "execution_count": 0,
      "outputs": [
        {
          "output_type": "execute_result",
          "data": {
            "text/html": [
              "<div>\n",
              "<style scoped>\n",
              "    .dataframe tbody tr th:only-of-type {\n",
              "        vertical-align: middle;\n",
              "    }\n",
              "\n",
              "    .dataframe tbody tr th {\n",
              "        vertical-align: top;\n",
              "    }\n",
              "\n",
              "    .dataframe thead th {\n",
              "        text-align: right;\n",
              "    }\n",
              "</style>\n",
              "<table border=\"1\" class=\"dataframe\">\n",
              "  <thead>\n",
              "    <tr style=\"text-align: right;\">\n",
              "      <th></th>\n",
              "      <th>Set</th>\n",
              "      <th>pointid</th>\n",
              "      <th>dataset</th>\n",
              "      <th>x</th>\n",
              "      <th>y</th>\n",
              "    </tr>\n",
              "  </thead>\n",
              "  <tbody>\n",
              "    <tr>\n",
              "      <th>142</th>\n",
              "      <td>Datasaurus Dozen</td>\n",
              "      <td>143</td>\n",
              "      <td>away</td>\n",
              "      <td>32.33111</td>\n",
              "      <td>61.411100</td>\n",
              "    </tr>\n",
              "    <tr>\n",
              "      <th>143</th>\n",
              "      <td>Datasaurus Dozen</td>\n",
              "      <td>144</td>\n",
              "      <td>away</td>\n",
              "      <td>53.42146</td>\n",
              "      <td>26.186880</td>\n",
              "    </tr>\n",
              "    <tr>\n",
              "      <th>144</th>\n",
              "      <td>Datasaurus Dozen</td>\n",
              "      <td>145</td>\n",
              "      <td>away</td>\n",
              "      <td>63.92020</td>\n",
              "      <td>30.832190</td>\n",
              "    </tr>\n",
              "    <tr>\n",
              "      <th>145</th>\n",
              "      <td>Datasaurus Dozen</td>\n",
              "      <td>146</td>\n",
              "      <td>away</td>\n",
              "      <td>70.28951</td>\n",
              "      <td>82.533650</td>\n",
              "    </tr>\n",
              "    <tr>\n",
              "      <th>146</th>\n",
              "      <td>Datasaurus Dozen</td>\n",
              "      <td>147</td>\n",
              "      <td>away</td>\n",
              "      <td>34.11883</td>\n",
              "      <td>45.734550</td>\n",
              "    </tr>\n",
              "    <tr>\n",
              "      <th>147</th>\n",
              "      <td>Datasaurus Dozen</td>\n",
              "      <td>148</td>\n",
              "      <td>away</td>\n",
              "      <td>67.67072</td>\n",
              "      <td>37.110950</td>\n",
              "    </tr>\n",
              "    <tr>\n",
              "      <th>148</th>\n",
              "      <td>Datasaurus Dozen</td>\n",
              "      <td>149</td>\n",
              "      <td>away</td>\n",
              "      <td>53.25913</td>\n",
              "      <td>97.475770</td>\n",
              "    </tr>\n",
              "    <tr>\n",
              "      <th>149</th>\n",
              "      <td>Datasaurus Dozen</td>\n",
              "      <td>150</td>\n",
              "      <td>away</td>\n",
              "      <td>63.51498</td>\n",
              "      <td>25.100080</td>\n",
              "    </tr>\n",
              "    <tr>\n",
              "      <th>150</th>\n",
              "      <td>Datasaurus Dozen</td>\n",
              "      <td>151</td>\n",
              "      <td>away</td>\n",
              "      <td>67.98054</td>\n",
              "      <td>80.957170</td>\n",
              "    </tr>\n",
              "    <tr>\n",
              "      <th>151</th>\n",
              "      <td>Datasaurus Dozen</td>\n",
              "      <td>152</td>\n",
              "      <td>away</td>\n",
              "      <td>67.37247</td>\n",
              "      <td>29.720400</td>\n",
              "    </tr>\n",
              "    <tr>\n",
              "      <th>152</th>\n",
              "      <td>Datasaurus Dozen</td>\n",
              "      <td>153</td>\n",
              "      <td>away</td>\n",
              "      <td>15.56075</td>\n",
              "      <td>80.065640</td>\n",
              "    </tr>\n",
              "    <tr>\n",
              "      <th>153</th>\n",
              "      <td>Datasaurus Dozen</td>\n",
              "      <td>154</td>\n",
              "      <td>away</td>\n",
              "      <td>71.79077</td>\n",
              "      <td>71.065470</td>\n",
              "    </tr>\n",
              "    <tr>\n",
              "      <th>154</th>\n",
              "      <td>Datasaurus Dozen</td>\n",
              "      <td>155</td>\n",
              "      <td>away</td>\n",
              "      <td>70.24255</td>\n",
              "      <td>24.109600</td>\n",
              "    </tr>\n",
              "    <tr>\n",
              "      <th>155</th>\n",
              "      <td>Datasaurus Dozen</td>\n",
              "      <td>156</td>\n",
              "      <td>away</td>\n",
              "      <td>64.93744</td>\n",
              "      <td>81.554200</td>\n",
              "    </tr>\n",
              "    <tr>\n",
              "      <th>156</th>\n",
              "      <td>Datasaurus Dozen</td>\n",
              "      <td>157</td>\n",
              "      <td>away</td>\n",
              "      <td>62.21352</td>\n",
              "      <td>21.475840</td>\n",
              "    </tr>\n",
              "    <tr>\n",
              "      <th>157</th>\n",
              "      <td>Datasaurus Dozen</td>\n",
              "      <td>158</td>\n",
              "      <td>away</td>\n",
              "      <td>67.26940</td>\n",
              "      <td>18.708970</td>\n",
              "    </tr>\n",
              "    <tr>\n",
              "      <th>158</th>\n",
              "      <td>Datasaurus Dozen</td>\n",
              "      <td>159</td>\n",
              "      <td>away</td>\n",
              "      <td>40.57020</td>\n",
              "      <td>79.372960</td>\n",
              "    </tr>\n",
              "    <tr>\n",
              "      <th>159</th>\n",
              "      <td>Datasaurus Dozen</td>\n",
              "      <td>160</td>\n",
              "      <td>away</td>\n",
              "      <td>74.74118</td>\n",
              "      <td>21.101640</td>\n",
              "    </tr>\n",
              "    <tr>\n",
              "      <th>160</th>\n",
              "      <td>Datasaurus Dozen</td>\n",
              "      <td>161</td>\n",
              "      <td>away</td>\n",
              "      <td>71.76832</td>\n",
              "      <td>20.011060</td>\n",
              "    </tr>\n",
              "    <tr>\n",
              "      <th>161</th>\n",
              "      <td>Datasaurus Dozen</td>\n",
              "      <td>162</td>\n",
              "      <td>away</td>\n",
              "      <td>76.16692</td>\n",
              "      <td>75.936170</td>\n",
              "    </tr>\n",
              "    <tr>\n",
              "      <th>162</th>\n",
              "      <td>Datasaurus Dozen</td>\n",
              "      <td>163</td>\n",
              "      <td>away</td>\n",
              "      <td>65.62366</td>\n",
              "      <td>15.582800</td>\n",
              "    </tr>\n",
              "    <tr>\n",
              "      <th>163</th>\n",
              "      <td>Datasaurus Dozen</td>\n",
              "      <td>164</td>\n",
              "      <td>away</td>\n",
              "      <td>50.85063</td>\n",
              "      <td>13.987600</td>\n",
              "    </tr>\n",
              "    <tr>\n",
              "      <th>164</th>\n",
              "      <td>Datasaurus Dozen</td>\n",
              "      <td>165</td>\n",
              "      <td>away</td>\n",
              "      <td>33.02407</td>\n",
              "      <td>24.467830</td>\n",
              "    </tr>\n",
              "    <tr>\n",
              "      <th>165</th>\n",
              "      <td>Datasaurus Dozen</td>\n",
              "      <td>166</td>\n",
              "      <td>away</td>\n",
              "      <td>39.70633</td>\n",
              "      <td>84.275290</td>\n",
              "    </tr>\n",
              "    <tr>\n",
              "      <th>166</th>\n",
              "      <td>Datasaurus Dozen</td>\n",
              "      <td>167</td>\n",
              "      <td>away</td>\n",
              "      <td>45.59648</td>\n",
              "      <td>9.763349</td>\n",
              "    </tr>\n",
              "    <tr>\n",
              "      <th>167</th>\n",
              "      <td>Datasaurus Dozen</td>\n",
              "      <td>168</td>\n",
              "      <td>away</td>\n",
              "      <td>42.96805</td>\n",
              "      <td>17.945460</td>\n",
              "    </tr>\n",
              "    <tr>\n",
              "      <th>168</th>\n",
              "      <td>Datasaurus Dozen</td>\n",
              "      <td>169</td>\n",
              "      <td>away</td>\n",
              "      <td>52.49441</td>\n",
              "      <td>16.051110</td>\n",
              "    </tr>\n",
              "    <tr>\n",
              "      <th>169</th>\n",
              "      <td>Datasaurus Dozen</td>\n",
              "      <td>170</td>\n",
              "      <td>away</td>\n",
              "      <td>46.08228</td>\n",
              "      <td>23.110460</td>\n",
              "    </tr>\n",
              "    <tr>\n",
              "      <th>170</th>\n",
              "      <td>Datasaurus Dozen</td>\n",
              "      <td>171</td>\n",
              "      <td>away</td>\n",
              "      <td>74.24771</td>\n",
              "      <td>20.314190</td>\n",
              "    </tr>\n",
              "    <tr>\n",
              "      <th>171</th>\n",
              "      <td>Datasaurus Dozen</td>\n",
              "      <td>172</td>\n",
              "      <td>away</td>\n",
              "      <td>64.56826</td>\n",
              "      <td>83.639630</td>\n",
              "    </tr>\n",
              "    <tr>\n",
              "      <th>...</th>\n",
              "      <td>...</td>\n",
              "      <td>...</td>\n",
              "      <td>...</td>\n",
              "      <td>...</td>\n",
              "      <td>...</td>\n",
              "    </tr>\n",
              "    <tr>\n",
              "      <th>1816</th>\n",
              "      <td>Datasaurus Dozen</td>\n",
              "      <td>1817</td>\n",
              "      <td>wide_lines</td>\n",
              "      <td>65.57005</td>\n",
              "      <td>23.765760</td>\n",
              "    </tr>\n",
              "    <tr>\n",
              "      <th>1817</th>\n",
              "      <td>Datasaurus Dozen</td>\n",
              "      <td>1818</td>\n",
              "      <td>wide_lines</td>\n",
              "      <td>38.40284</td>\n",
              "      <td>19.046860</td>\n",
              "    </tr>\n",
              "    <tr>\n",
              "      <th>1818</th>\n",
              "      <td>Datasaurus Dozen</td>\n",
              "      <td>1819</td>\n",
              "      <td>wide_lines</td>\n",
              "      <td>37.83236</td>\n",
              "      <td>14.469490</td>\n",
              "    </tr>\n",
              "    <tr>\n",
              "      <th>1819</th>\n",
              "      <td>Datasaurus Dozen</td>\n",
              "      <td>1820</td>\n",
              "      <td>wide_lines</td>\n",
              "      <td>36.90416</td>\n",
              "      <td>13.583820</td>\n",
              "    </tr>\n",
              "    <tr>\n",
              "      <th>1820</th>\n",
              "      <td>Datasaurus Dozen</td>\n",
              "      <td>1821</td>\n",
              "      <td>wide_lines</td>\n",
              "      <td>36.28614</td>\n",
              "      <td>17.105770</td>\n",
              "    </tr>\n",
              "    <tr>\n",
              "      <th>1821</th>\n",
              "      <td>Datasaurus Dozen</td>\n",
              "      <td>1822</td>\n",
              "      <td>wide_lines</td>\n",
              "      <td>62.78663</td>\n",
              "      <td>13.918990</td>\n",
              "    </tr>\n",
              "    <tr>\n",
              "      <th>1822</th>\n",
              "      <td>Datasaurus Dozen</td>\n",
              "      <td>1823</td>\n",
              "      <td>wide_lines</td>\n",
              "      <td>66.81768</td>\n",
              "      <td>11.412500</td>\n",
              "    </tr>\n",
              "    <tr>\n",
              "      <th>1823</th>\n",
              "      <td>Datasaurus Dozen</td>\n",
              "      <td>1824</td>\n",
              "      <td>wide_lines</td>\n",
              "      <td>66.75502</td>\n",
              "      <td>18.085310</td>\n",
              "    </tr>\n",
              "    <tr>\n",
              "      <th>1824</th>\n",
              "      <td>Datasaurus Dozen</td>\n",
              "      <td>1825</td>\n",
              "      <td>wide_lines</td>\n",
              "      <td>65.41553</td>\n",
              "      <td>10.463510</td>\n",
              "    </tr>\n",
              "    <tr>\n",
              "      <th>1825</th>\n",
              "      <td>Datasaurus Dozen</td>\n",
              "      <td>1826</td>\n",
              "      <td>wide_lines</td>\n",
              "      <td>36.94633</td>\n",
              "      <td>13.514380</td>\n",
              "    </tr>\n",
              "    <tr>\n",
              "      <th>1826</th>\n",
              "      <td>Datasaurus Dozen</td>\n",
              "      <td>1827</td>\n",
              "      <td>wide_lines</td>\n",
              "      <td>37.82543</td>\n",
              "      <td>9.601034</td>\n",
              "    </tr>\n",
              "    <tr>\n",
              "      <th>1827</th>\n",
              "      <td>Datasaurus Dozen</td>\n",
              "      <td>1828</td>\n",
              "      <td>wide_lines</td>\n",
              "      <td>36.72284</td>\n",
              "      <td>9.333302</td>\n",
              "    </tr>\n",
              "    <tr>\n",
              "      <th>1828</th>\n",
              "      <td>Datasaurus Dozen</td>\n",
              "      <td>1829</td>\n",
              "      <td>wide_lines</td>\n",
              "      <td>67.07332</td>\n",
              "      <td>6.049215</td>\n",
              "    </tr>\n",
              "    <tr>\n",
              "      <th>1829</th>\n",
              "      <td>Datasaurus Dozen</td>\n",
              "      <td>1830</td>\n",
              "      <td>wide_lines</td>\n",
              "      <td>64.60182</td>\n",
              "      <td>12.001920</td>\n",
              "    </tr>\n",
              "    <tr>\n",
              "      <th>1830</th>\n",
              "      <td>Datasaurus Dozen</td>\n",
              "      <td>1831</td>\n",
              "      <td>wide_lines</td>\n",
              "      <td>65.43728</td>\n",
              "      <td>15.545390</td>\n",
              "    </tr>\n",
              "    <tr>\n",
              "      <th>1831</th>\n",
              "      <td>Datasaurus Dozen</td>\n",
              "      <td>1832</td>\n",
              "      <td>wide_lines</td>\n",
              "      <td>67.00402</td>\n",
              "      <td>15.345830</td>\n",
              "    </tr>\n",
              "    <tr>\n",
              "      <th>1832</th>\n",
              "      <td>Datasaurus Dozen</td>\n",
              "      <td>1833</td>\n",
              "      <td>wide_lines</td>\n",
              "      <td>66.72419</td>\n",
              "      <td>5.249805</td>\n",
              "    </tr>\n",
              "    <tr>\n",
              "      <th>1833</th>\n",
              "      <td>Datasaurus Dozen</td>\n",
              "      <td>1834</td>\n",
              "      <td>wide_lines</td>\n",
              "      <td>68.30762</td>\n",
              "      <td>13.280920</td>\n",
              "    </tr>\n",
              "    <tr>\n",
              "      <th>1834</th>\n",
              "      <td>Datasaurus Dozen</td>\n",
              "      <td>1835</td>\n",
              "      <td>wide_lines</td>\n",
              "      <td>68.76805</td>\n",
              "      <td>13.521460</td>\n",
              "    </tr>\n",
              "    <tr>\n",
              "      <th>1835</th>\n",
              "      <td>Datasaurus Dozen</td>\n",
              "      <td>1836</td>\n",
              "      <td>wide_lines</td>\n",
              "      <td>74.16727</td>\n",
              "      <td>5.349881</td>\n",
              "    </tr>\n",
              "    <tr>\n",
              "      <th>1836</th>\n",
              "      <td>Datasaurus Dozen</td>\n",
              "      <td>1837</td>\n",
              "      <td>wide_lines</td>\n",
              "      <td>64.90036</td>\n",
              "      <td>16.245260</td>\n",
              "    </tr>\n",
              "    <tr>\n",
              "      <th>1837</th>\n",
              "      <td>Datasaurus Dozen</td>\n",
              "      <td>1838</td>\n",
              "      <td>wide_lines</td>\n",
              "      <td>68.76343</td>\n",
              "      <td>8.700573</td>\n",
              "    </tr>\n",
              "    <tr>\n",
              "      <th>1838</th>\n",
              "      <td>Datasaurus Dozen</td>\n",
              "      <td>1839</td>\n",
              "      <td>wide_lines</td>\n",
              "      <td>66.81691</td>\n",
              "      <td>12.273290</td>\n",
              "    </tr>\n",
              "    <tr>\n",
              "      <th>1839</th>\n",
              "      <td>Datasaurus Dozen</td>\n",
              "      <td>1840</td>\n",
              "      <td>wide_lines</td>\n",
              "      <td>67.30935</td>\n",
              "      <td>0.217006</td>\n",
              "    </tr>\n",
              "    <tr>\n",
              "      <th>1840</th>\n",
              "      <td>Datasaurus Dozen</td>\n",
              "      <td>1841</td>\n",
              "      <td>wide_lines</td>\n",
              "      <td>34.73183</td>\n",
              "      <td>19.601800</td>\n",
              "    </tr>\n",
              "    <tr>\n",
              "      <th>1841</th>\n",
              "      <td>Datasaurus Dozen</td>\n",
              "      <td>1842</td>\n",
              "      <td>wide_lines</td>\n",
              "      <td>33.67444</td>\n",
              "      <td>26.090490</td>\n",
              "    </tr>\n",
              "    <tr>\n",
              "      <th>1842</th>\n",
              "      <td>Datasaurus Dozen</td>\n",
              "      <td>1843</td>\n",
              "      <td>wide_lines</td>\n",
              "      <td>75.62726</td>\n",
              "      <td>37.128750</td>\n",
              "    </tr>\n",
              "    <tr>\n",
              "      <th>1843</th>\n",
              "      <td>Datasaurus Dozen</td>\n",
              "      <td>1844</td>\n",
              "      <td>wide_lines</td>\n",
              "      <td>40.61013</td>\n",
              "      <td>89.136240</td>\n",
              "    </tr>\n",
              "    <tr>\n",
              "      <th>1844</th>\n",
              "      <td>Datasaurus Dozen</td>\n",
              "      <td>1845</td>\n",
              "      <td>wide_lines</td>\n",
              "      <td>39.11437</td>\n",
              "      <td>96.481750</td>\n",
              "    </tr>\n",
              "    <tr>\n",
              "      <th>1845</th>\n",
              "      <td>Datasaurus Dozen</td>\n",
              "      <td>1846</td>\n",
              "      <td>wide_lines</td>\n",
              "      <td>34.58383</td>\n",
              "      <td>89.588900</td>\n",
              "    </tr>\n",
              "  </tbody>\n",
              "</table>\n",
              "<p>1704 rows × 5 columns</p>\n",
              "</div>"
            ],
            "text/plain": [
              "                   Set  pointid     dataset         x          y\n",
              "142   Datasaurus Dozen      143        away  32.33111  61.411100\n",
              "143   Datasaurus Dozen      144        away  53.42146  26.186880\n",
              "144   Datasaurus Dozen      145        away  63.92020  30.832190\n",
              "145   Datasaurus Dozen      146        away  70.28951  82.533650\n",
              "146   Datasaurus Dozen      147        away  34.11883  45.734550\n",
              "147   Datasaurus Dozen      148        away  67.67072  37.110950\n",
              "148   Datasaurus Dozen      149        away  53.25913  97.475770\n",
              "149   Datasaurus Dozen      150        away  63.51498  25.100080\n",
              "150   Datasaurus Dozen      151        away  67.98054  80.957170\n",
              "151   Datasaurus Dozen      152        away  67.37247  29.720400\n",
              "152   Datasaurus Dozen      153        away  15.56075  80.065640\n",
              "153   Datasaurus Dozen      154        away  71.79077  71.065470\n",
              "154   Datasaurus Dozen      155        away  70.24255  24.109600\n",
              "155   Datasaurus Dozen      156        away  64.93744  81.554200\n",
              "156   Datasaurus Dozen      157        away  62.21352  21.475840\n",
              "157   Datasaurus Dozen      158        away  67.26940  18.708970\n",
              "158   Datasaurus Dozen      159        away  40.57020  79.372960\n",
              "159   Datasaurus Dozen      160        away  74.74118  21.101640\n",
              "160   Datasaurus Dozen      161        away  71.76832  20.011060\n",
              "161   Datasaurus Dozen      162        away  76.16692  75.936170\n",
              "162   Datasaurus Dozen      163        away  65.62366  15.582800\n",
              "163   Datasaurus Dozen      164        away  50.85063  13.987600\n",
              "164   Datasaurus Dozen      165        away  33.02407  24.467830\n",
              "165   Datasaurus Dozen      166        away  39.70633  84.275290\n",
              "166   Datasaurus Dozen      167        away  45.59648   9.763349\n",
              "167   Datasaurus Dozen      168        away  42.96805  17.945460\n",
              "168   Datasaurus Dozen      169        away  52.49441  16.051110\n",
              "169   Datasaurus Dozen      170        away  46.08228  23.110460\n",
              "170   Datasaurus Dozen      171        away  74.24771  20.314190\n",
              "171   Datasaurus Dozen      172        away  64.56826  83.639630\n",
              "...                ...      ...         ...       ...        ...\n",
              "1816  Datasaurus Dozen     1817  wide_lines  65.57005  23.765760\n",
              "1817  Datasaurus Dozen     1818  wide_lines  38.40284  19.046860\n",
              "1818  Datasaurus Dozen     1819  wide_lines  37.83236  14.469490\n",
              "1819  Datasaurus Dozen     1820  wide_lines  36.90416  13.583820\n",
              "1820  Datasaurus Dozen     1821  wide_lines  36.28614  17.105770\n",
              "1821  Datasaurus Dozen     1822  wide_lines  62.78663  13.918990\n",
              "1822  Datasaurus Dozen     1823  wide_lines  66.81768  11.412500\n",
              "1823  Datasaurus Dozen     1824  wide_lines  66.75502  18.085310\n",
              "1824  Datasaurus Dozen     1825  wide_lines  65.41553  10.463510\n",
              "1825  Datasaurus Dozen     1826  wide_lines  36.94633  13.514380\n",
              "1826  Datasaurus Dozen     1827  wide_lines  37.82543   9.601034\n",
              "1827  Datasaurus Dozen     1828  wide_lines  36.72284   9.333302\n",
              "1828  Datasaurus Dozen     1829  wide_lines  67.07332   6.049215\n",
              "1829  Datasaurus Dozen     1830  wide_lines  64.60182  12.001920\n",
              "1830  Datasaurus Dozen     1831  wide_lines  65.43728  15.545390\n",
              "1831  Datasaurus Dozen     1832  wide_lines  67.00402  15.345830\n",
              "1832  Datasaurus Dozen     1833  wide_lines  66.72419   5.249805\n",
              "1833  Datasaurus Dozen     1834  wide_lines  68.30762  13.280920\n",
              "1834  Datasaurus Dozen     1835  wide_lines  68.76805  13.521460\n",
              "1835  Datasaurus Dozen     1836  wide_lines  74.16727   5.349881\n",
              "1836  Datasaurus Dozen     1837  wide_lines  64.90036  16.245260\n",
              "1837  Datasaurus Dozen     1838  wide_lines  68.76343   8.700573\n",
              "1838  Datasaurus Dozen     1839  wide_lines  66.81691  12.273290\n",
              "1839  Datasaurus Dozen     1840  wide_lines  67.30935   0.217006\n",
              "1840  Datasaurus Dozen     1841  wide_lines  34.73183  19.601800\n",
              "1841  Datasaurus Dozen     1842  wide_lines  33.67444  26.090490\n",
              "1842  Datasaurus Dozen     1843  wide_lines  75.62726  37.128750\n",
              "1843  Datasaurus Dozen     1844  wide_lines  40.61013  89.136240\n",
              "1844  Datasaurus Dozen     1845  wide_lines  39.11437  96.481750\n",
              "1845  Datasaurus Dozen     1846  wide_lines  34.58383  89.588900\n",
              "\n",
              "[1704 rows x 5 columns]"
            ]
          },
          "metadata": {
            "tags": []
          },
          "execution_count": 69
        }
      ]
    },
    {
      "cell_type": "code",
      "metadata": {
        "colab_type": "code",
        "id": "CIyrLn7svDUS",
        "outputId": "b7364967-e0a9-45ba-f81f-f6ba4d927bee",
        "colab": {
          "base_uri": "https://localhost:8080/",
          "height": 609
        }
      },
      "source": [
        "# No corra esta celda"
      ],
      "execution_count": 0,
      "outputs": [
        {
          "output_type": "display_data",
          "data": {
            "image/png": "[encoded data removed]",
            "text/plain": [
              "<Figure size 720x720 with 12 Axes>"
            ]
          },
          "metadata": {
            "tags": []
          }
        }
      ]
    },
    {
      "cell_type": "markdown",
      "metadata": {
        "colab_type": "text",
        "id": "D1nMx2WyuvA2"
      },
      "source": [
        "## Aquí gráfique desde 'Anscombe 1' hasta 'Anscombe 4'"
      ]
    },
    {
      "cell_type": "code",
      "metadata": {
        "colab_type": "code",
        "id": "XPKsTsXyuvBB",
        "colab": {}
      },
      "source": [
        "# Escriba aqui su código"
      ],
      "execution_count": 0,
      "outputs": []
    },
    {
      "cell_type": "code",
      "metadata": {
        "colab_type": "code",
        "id": "qOMGouSzvDxo",
        "outputId": "81e4e816-67c0-4c10-e395-f0cecdb397ab",
        "colab": {
          "base_uri": "https://localhost:8080/",
          "height": 1000
        }
      },
      "source": [
        "# No corra esta celda"
      ],
      "execution_count": 0,
      "outputs": [
        {
          "output_type": "display_data",
          "data": {
            "image/png": "[encoded data removed]",
            "text/plain": [
              "<Figure size 432x288 with 1 Axes>"
            ]
          },
          "metadata": {
            "tags": []
          }
        },
        {
          "output_type": "display_data",
          "data": {
            "image/png": "[encoded data removed]",
            "text/plain": [
              "<Figure size 432x288 with 1 Axes>"
            ]
          },
          "metadata": {
            "tags": []
          }
        },
        {
          "output_type": "display_data",
          "data": {
            "image/png": "[encoded data removed]",
            "text/plain": [
              "<Figure size 432x288 with 1 Axes>"
            ]
          },
          "metadata": {
            "tags": []
          }
        },
        {
          "output_type": "display_data",
          "data": {
            "image/png": "[encoded data removed]",
            "text/plain": [
              "<Figure size 432x288 with 1 Axes>"
            ]
          },
          "metadata": {
            "tags": []
          }
        }
      ]
    }
  ]
}